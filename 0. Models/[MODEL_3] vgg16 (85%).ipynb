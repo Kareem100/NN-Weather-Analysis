{
 "cells": [
  {
   "cell_type": "markdown",
   "id": "58e43a35",
   "metadata": {
    "papermill": {
     "duration": 0.033987,
     "end_time": "2022-05-28T02:15:20.896410",
     "exception": false,
     "start_time": "2022-05-28T02:15:20.862423",
     "status": "completed"
    },
    "tags": []
   },
   "source": [
    "## Step 1: Explore Data"
   ]
  },
  {
   "cell_type": "code",
   "execution_count": 1,
   "id": "0c59d290",
   "metadata": {
    "execution": {
     "iopub.execute_input": "2022-05-28T02:15:20.963378Z",
     "iopub.status.busy": "2022-05-28T02:15:20.962991Z",
     "iopub.status.idle": "2022-05-28T02:15:21.336317Z",
     "shell.execute_reply": "2022-05-28T02:15:21.335155Z"
    },
    "papermill": {
     "duration": 0.408729,
     "end_time": "2022-05-28T02:15:21.338628",
     "exception": false,
     "start_time": "2022-05-28T02:15:20.929899",
     "status": "completed"
    },
    "tags": []
   },
   "outputs": [
    {
     "name": "stdout",
     "output_type": "stream",
     "text": [
      "Train Directory Content:  ['hail', 'rainbow', 'frost', 'rime', 'fogsmog', 'snow', 'rain', 'glaze', 'lightning', 'sandstorm', 'dew']\n",
      "Test Directory # of files:  1300\n"
     ]
    }
   ],
   "source": [
    "import os\n",
    "import warnings\n",
    "warnings.filterwarnings('ignore')\n",
    "\n",
    "# Displaying Train Content\n",
    "data_dir_list = os.listdir('../input/nn22-weather-analysis-using-image-recognition/Dataset/Train')\n",
    "print(\"Train Directory Content: \", data_dir_list)\n",
    "\n",
    "# Displaying Test files\n",
    "path, dirs, files = next(os.walk('../input/nn22-weather-analysis-using-image-recognition/Dataset/Test'))\n",
    "file_count = len(files)\n",
    "print(\"Test Directory # of files: \", file_count)"
   ]
  },
  {
   "cell_type": "markdown",
   "id": "3ab5cc98",
   "metadata": {
    "papermill": {
     "duration": 0.032732,
     "end_time": "2022-05-28T02:15:21.404589",
     "exception": false,
     "start_time": "2022-05-28T02:15:21.371857",
     "status": "completed"
    },
    "tags": []
   },
   "source": [
    "## Step 2: Train-Valid Split"
   ]
  },
  {
   "cell_type": "markdown",
   "id": "58507190",
   "metadata": {
    "papermill": {
     "duration": 0.032159,
     "end_time": "2022-05-28T02:15:21.469251",
     "exception": false,
     "start_time": "2022-05-28T02:15:21.437092",
     "status": "completed"
    },
    "tags": []
   },
   "source": [
    "### Step 2.1: Establishing Working Directories"
   ]
  },
  {
   "cell_type": "code",
   "execution_count": 2,
   "id": "023bea7a",
   "metadata": {
    "execution": {
     "iopub.execute_input": "2022-05-28T02:15:21.534873Z",
     "iopub.status.busy": "2022-05-28T02:15:21.534638Z",
     "iopub.status.idle": "2022-05-28T02:15:21.538135Z",
     "shell.execute_reply": "2022-05-28T02:15:21.537444Z"
    },
    "papermill": {
     "duration": 0.03837,
     "end_time": "2022-05-28T02:15:21.539767",
     "exception": false,
     "start_time": "2022-05-28T02:15:21.501397",
     "status": "completed"
    },
    "tags": []
   },
   "outputs": [],
   "source": [
    "# making base directory for train-valid splitting\n",
    "base_dir = './weather-data/'\n",
    "os.mkdir(base_dir)"
   ]
  },
  {
   "cell_type": "code",
   "execution_count": 3,
   "id": "7e1ad296",
   "metadata": {
    "execution": {
     "iopub.execute_input": "2022-05-28T02:15:21.605788Z",
     "iopub.status.busy": "2022-05-28T02:15:21.605592Z",
     "iopub.status.idle": "2022-05-28T02:15:21.621772Z",
     "shell.execute_reply": "2022-05-28T02:15:21.621161Z"
    },
    "papermill": {
     "duration": 0.051662,
     "end_time": "2022-05-28T02:15:21.623471",
     "exception": false,
     "start_time": "2022-05-28T02:15:21.571809",
     "status": "completed"
    },
    "tags": []
   },
   "outputs": [],
   "source": [
    "# creating two folders (train and valid)\n",
    "train_dir = os.path.join(base_dir, 'train')\n",
    "os.mkdir(train_dir)\n",
    "\n",
    "valid_dir = os.path.join(base_dir, 'valid')\n",
    "os.mkdir(valid_dir)\n",
    "\n",
    "# creating eleven directories inside 'train' directory \n",
    "# ('rainbow', 'rain', 'hail', 'lightning', 'fogsmog', 'snow', 'glaze', 'rime', 'frost', 'sandstorm', 'dew')\n",
    "#0\n",
    "train_rainbow_dir = os.path.join(train_dir, 'rainbow')\n",
    "os.mkdir(train_rainbow_dir)\n",
    "#1\n",
    "train_rain_dir = os.path.join(train_dir, 'rain')\n",
    "os.mkdir(train_rain_dir)\n",
    "#2\n",
    "train_hail_dir = os.path.join(train_dir, 'hail')\n",
    "os.mkdir(train_hail_dir)\n",
    "#3\n",
    "train_lightning_dir = os.path.join(train_dir, 'lightning')\n",
    "os.mkdir(train_lightning_dir)\n",
    "#4\n",
    "train_fogsmog_dir = os.path.join(train_dir, 'fogsmog')\n",
    "os.mkdir(train_fogsmog_dir)\n",
    "#5\n",
    "train_snow_dir = os.path.join(train_dir, 'snow')\n",
    "os.mkdir(train_snow_dir)\n",
    "#6\n",
    "train_glaze_dir = os.path.join(train_dir, 'glaze')\n",
    "os.mkdir(train_glaze_dir)\n",
    "#7\n",
    "train_rime_dir = os.path.join(train_dir, 'rime')\n",
    "os.mkdir(train_rime_dir)\n",
    "#8\n",
    "train_frost_dir = os.path.join(train_dir, 'frost')\n",
    "os.mkdir(train_frost_dir)\n",
    "#9\n",
    "train_sandstorm_dir = os.path.join(train_dir, 'sandstorm')\n",
    "os.mkdir(train_sandstorm_dir)\n",
    "#10\n",
    "train_dew_dir = os.path.join(train_dir, 'dew')\n",
    "os.mkdir(train_dew_dir)\n",
    "\n",
    "# creating eleven directories inside 'valid' directory \n",
    "# ('rainbow', 'rain', 'hail', 'lightning', 'fogsmog', 'snow', 'glaze', 'rime', 'frost', 'sandstorm', 'dew')\n",
    "#0\n",
    "valid_rainbow_dir = os.path.join(valid_dir, 'rainbow')\n",
    "os.mkdir(valid_rainbow_dir)\n",
    "#1\n",
    "valid_rain_dir = os.path.join(valid_dir, 'rain')\n",
    "os.mkdir(valid_rain_dir)\n",
    "#2\n",
    "valid_hail_dir = os.path.join(valid_dir, 'hail')\n",
    "os.mkdir(valid_hail_dir)\n",
    "#3\n",
    "valid_lightning_dir = os.path.join(valid_dir, 'lightning')\n",
    "os.mkdir(valid_lightning_dir)\n",
    "#4\n",
    "valid_fogsmog_dir = os.path.join(valid_dir, 'fogsmog')\n",
    "os.mkdir(valid_fogsmog_dir)\n",
    "#5\n",
    "valid_snow_dir = os.path.join(valid_dir, 'snow')\n",
    "os.mkdir(valid_snow_dir)\n",
    "#6\n",
    "valid_glaze_dir = os.path.join(valid_dir, 'glaze')\n",
    "os.mkdir(valid_glaze_dir)\n",
    "#7\n",
    "valid_rime_dir = os.path.join(valid_dir, 'rime')\n",
    "os.mkdir(valid_rime_dir)\n",
    "#8\n",
    "valid_frost_dir = os.path.join(valid_dir, 'frost')\n",
    "os.mkdir(valid_frost_dir)\n",
    "#9\n",
    "valid_sandstorm_dir = os.path.join(valid_dir, 'sandstorm')\n",
    "os.mkdir(valid_sandstorm_dir)\n",
    "#10\n",
    "valid_dew_dir = os.path.join(valid_dir, 'dew')\n",
    "os.mkdir(valid_dew_dir)"
   ]
  },
  {
   "cell_type": "code",
   "execution_count": 4,
   "id": "2b38435d",
   "metadata": {
    "execution": {
     "iopub.execute_input": "2022-05-28T02:15:21.690015Z",
     "iopub.status.busy": "2022-05-28T02:15:21.689233Z",
     "iopub.status.idle": "2022-05-28T02:15:21.697829Z",
     "shell.execute_reply": "2022-05-28T02:15:21.697184Z"
    },
    "papermill": {
     "duration": 0.044018,
     "end_time": "2022-05-28T02:15:21.699578",
     "exception": false,
     "start_time": "2022-05-28T02:15:21.655560",
     "status": "completed"
    },
    "tags": []
   },
   "outputs": [],
   "source": [
    "import random\n",
    "from shutil import copyfile\n",
    "\n",
    "def train_valid_split(src_dir, train_dir, valid_dir, split_size):\n",
    "    files = []\n",
    "    for filename in os.listdir(src_dir):\n",
    "        file = os.path.join(src_dir, filename)\n",
    "        if os.path.getsize(file) > 0:\n",
    "            files.append(filename)\n",
    "        else:\n",
    "            print(filename + \"is ignored as it cannot be fetched!!\")\n",
    "\n",
    "    # shuffling train data and splitting into train and valid sets\n",
    "    train_size = int(len(files) * split_size)\n",
    "    valid_size = int(len(files) - train_size)\n",
    "    shuffled_set = random.sample(files, len(files))\n",
    "    train_set = shuffled_set[0:train_size]\n",
    "    valid_set = shuffled_set[train_size:]\n",
    "    \n",
    "    # copying train set files from source to destination \n",
    "    for filename in train_set:\n",
    "        curr_file = os.path.join(src_dir, filename)\n",
    "        move_dest = os.path.join(train_dir, filename)\n",
    "        copyfile(curr_file, move_dest)\n",
    "    \n",
    "    # copying valid set files from source to destination \n",
    "    for filename in valid_set:\n",
    "        curr_file = os.path.join(src_dir, filename)\n",
    "        move_dest = os.path.join(valid_dir, filename)\n",
    "        copyfile(curr_file, move_dest)"
   ]
  },
  {
   "cell_type": "code",
   "execution_count": 5,
   "id": "46bda3a0",
   "metadata": {
    "execution": {
     "iopub.execute_input": "2022-05-28T02:15:21.774707Z",
     "iopub.status.busy": "2022-05-28T02:15:21.774374Z",
     "iopub.status.idle": "2022-05-28T02:15:21.801708Z",
     "shell.execute_reply": "2022-05-28T02:15:21.800036Z"
    },
    "papermill": {
     "duration": 0.074389,
     "end_time": "2022-05-28T02:15:21.806224",
     "exception": false,
     "start_time": "2022-05-28T02:15:21.731835",
     "status": "completed"
    },
    "tags": []
   },
   "outputs": [],
   "source": [
    "import os\n",
    "\n",
    "TRAIN_SRC_DIR = '../input/nn22-weather-analysis-using-image-recognition/Dataset/Train/'\n",
    "TRAIN_DIR = './weather-data/train/'\n",
    "VALID_DIR = './weather-data/valid/'\n",
    "\n",
    "#0\n",
    "DEW_SOURCE_DIR = os.path.join(TRAIN_SRC_DIR, 'dew')\n",
    "DEW_TRAIN_DIR = os.path.join(TRAIN_DIR, 'dew')\n",
    "DEW_VALID_DIR = os.path.join(VALID_DIR, 'dew')\n",
    "\n",
    "#1\n",
    "FOGSMOG_SOURCE_DIR = os.path.join(TRAIN_SRC_DIR, 'fogsmog')\n",
    "FOGSMOG_TRAIN_DIR = os.path.join(TRAIN_DIR, 'fogsmog')\n",
    "FOGSMOG_VALID_DIR = os.path.join(VALID_DIR, 'fogsmog')\n",
    "\n",
    "#2\n",
    "FROST_SOURCE_DIR = os.path.join(TRAIN_SRC_DIR, 'frost')\n",
    "FROST_TRAIN_DIR = os.path.join(TRAIN_DIR, 'frost')\n",
    "FROST_VALID_DIR = os.path.join(VALID_DIR, 'frost')\n",
    "\n",
    "#3\n",
    "GLAZE_SOURCE_DIR = os.path.join(TRAIN_SRC_DIR, 'glaze')\n",
    "GLAZE_TRAIN_DIR = os.path.join(TRAIN_DIR, 'glaze')\n",
    "GLAZE_VALID_DIR = os.path.join(VALID_DIR, 'glaze')\n",
    "\n",
    "#4\n",
    "HAIL_SOURCE_DIR = os.path.join(TRAIN_SRC_DIR, 'hail')\n",
    "HAIL_TRAIN_DIR = os.path.join(TRAIN_DIR, 'hail')\n",
    "HAIL_VALID_DIR = os.path.join(VALID_DIR, 'hail')\n",
    "\n",
    "#5\n",
    "LIGHTNING_SOURCE_DIR = os.path.join(TRAIN_SRC_DIR, 'lightning')\n",
    "LIGHTNING_TRAIN_DIR = os.path.join(TRAIN_DIR, 'lightning')\n",
    "LIGHTNING_VALID_DIR = os.path.join(VALID_DIR, 'lightning')\n",
    "\n",
    "#6\n",
    "RAIN_SOURCE_DIR = os.path.join(TRAIN_SRC_DIR, 'rain')\n",
    "RAIN_TRAIN_DIR = os.path.join(TRAIN_DIR, 'rain')\n",
    "RAIN_VALID_DIR = os.path.join(VALID_DIR, 'rain')\n",
    "\n",
    "#7\n",
    "RAINBOW_SOURCE_DIR = os.path.join(TRAIN_SRC_DIR, 'rainbow')\n",
    "RAINBOW_TRAIN_DIR = os.path.join(TRAIN_DIR, 'rainbow')\n",
    "RAINBOW_VALID_DIR = os.path.join(VALID_DIR, 'rainbow')\n",
    "\n",
    "#8\n",
    "RIME_SOURCE_DIR = os.path.join(TRAIN_SRC_DIR, 'rime')\n",
    "RIME_TRAIN_DIR = os.path.join(TRAIN_DIR, 'rime')\n",
    "RIME_VALID_DIR = os.path.join(VALID_DIR, 'rime')\n",
    "\n",
    "#9\n",
    "SANDSTORM_SOURCE_DIR = os.path.join(TRAIN_SRC_DIR, 'sandstorm')\n",
    "SANDSTORM_TRAIN_DIR = os.path.join(TRAIN_DIR, 'sandstorm')\n",
    "SANDSTORM_VALID_DIR = os.path.join(VALID_DIR, 'sandstorm')\n",
    "\n",
    "#10\n",
    "SNOW_SOURCE_DIR = os.path.join(TRAIN_SRC_DIR, 'snow')\n",
    "SNOW_TRAIN_DIR = os.path.join(TRAIN_DIR, 'snow')\n",
    "SNOW_VALID_DIR = os.path.join(VALID_DIR, 'snow')"
   ]
  },
  {
   "cell_type": "code",
   "execution_count": 6,
   "id": "e1eb8371",
   "metadata": {
    "execution": {
     "iopub.execute_input": "2022-05-28T02:15:21.934137Z",
     "iopub.status.busy": "2022-05-28T02:15:21.933763Z",
     "iopub.status.idle": "2022-05-28T02:15:51.281417Z",
     "shell.execute_reply": "2022-05-28T02:15:51.280670Z"
    },
    "papermill": {
     "duration": 29.409594,
     "end_time": "2022-05-28T02:15:51.283536",
     "exception": false,
     "start_time": "2022-05-28T02:15:21.873942",
     "status": "completed"
    },
    "tags": []
   },
   "outputs": [],
   "source": [
    "split_portion = .90\n",
    "\n",
    "# splitting each class into train-validation sets\n",
    "train_valid_split(DEW_SOURCE_DIR, DEW_TRAIN_DIR, DEW_VALID_DIR, split_portion)\n",
    "train_valid_split(FOGSMOG_SOURCE_DIR, FOGSMOG_TRAIN_DIR, FOGSMOG_VALID_DIR, split_portion)\n",
    "train_valid_split(FROST_SOURCE_DIR, FROST_TRAIN_DIR, FROST_VALID_DIR, split_portion)\n",
    "train_valid_split(GLAZE_SOURCE_DIR, GLAZE_TRAIN_DIR, GLAZE_VALID_DIR, split_portion)\n",
    "train_valid_split(HAIL_SOURCE_DIR, HAIL_TRAIN_DIR, HAIL_VALID_DIR, split_portion)\n",
    "train_valid_split(LIGHTNING_SOURCE_DIR, LIGHTNING_TRAIN_DIR, LIGHTNING_VALID_DIR, split_portion)\n",
    "train_valid_split(RAIN_SOURCE_DIR, RAIN_TRAIN_DIR, RAIN_VALID_DIR, split_portion)\n",
    "train_valid_split(RAINBOW_SOURCE_DIR, RAINBOW_TRAIN_DIR, RAINBOW_VALID_DIR, split_portion)\n",
    "train_valid_split(RIME_SOURCE_DIR, RIME_TRAIN_DIR, RIME_VALID_DIR, split_portion)\n",
    "train_valid_split(SANDSTORM_SOURCE_DIR, SANDSTORM_TRAIN_DIR, SANDSTORM_VALID_DIR, split_portion)\n",
    "train_valid_split(SNOW_SOURCE_DIR, SNOW_TRAIN_DIR, SNOW_VALID_DIR, split_portion)"
   ]
  },
  {
   "cell_type": "markdown",
   "id": "d6425555",
   "metadata": {
    "papermill": {
     "duration": 0.031819,
     "end_time": "2022-05-28T02:15:51.347960",
     "exception": false,
     "start_time": "2022-05-28T02:15:51.316141",
     "status": "completed"
    },
    "tags": []
   },
   "source": [
    "### Step 2.2: Train-Valid Analysis"
   ]
  },
  {
   "cell_type": "code",
   "execution_count": 7,
   "id": "108218d3",
   "metadata": {
    "execution": {
     "iopub.execute_input": "2022-05-28T02:15:51.413573Z",
     "iopub.status.busy": "2022-05-28T02:15:51.413332Z",
     "iopub.status.idle": "2022-05-28T02:15:52.307133Z",
     "shell.execute_reply": "2022-05-28T02:15:52.306423Z"
    },
    "papermill": {
     "duration": 0.929219,
     "end_time": "2022-05-28T02:15:52.309134",
     "exception": false,
     "start_time": "2022-05-28T02:15:51.379915",
     "status": "completed"
    },
    "tags": []
   },
   "outputs": [],
   "source": [
    "import matplotlib.pyplot as plt\n",
    "import seaborn as sns\n",
    "from matplotlib.image import imread\n",
    "import pathlib\n",
    "\n",
    "class_labels = ['rainbow', 'rain', 'hail', 'lightning', 'fogsmog', 'snow', 'glaze', 'rime', 'frost', 'sandstorm', 'dew']\n",
    "def plot_classes_distributions(dir_path, plot_title):\n",
    "    class_imgs_num = {}\n",
    "    for lbl in class_labels:\n",
    "        class_imgs_num[lbl] = len(os.listdir(dir_path+lbl+'/'))\n",
    "\n",
    "    plt.figure(figsize=(9, 6))\n",
    "    plt.bar(range(len(class_imgs_num)), list(class_imgs_num.values()), align='center')\n",
    "    plt.xticks(range(len(class_imgs_num)), list(class_imgs_num.keys()))\n",
    "    plt.title(plot_title)\n",
    "    plt.show()"
   ]
  },
  {
   "cell_type": "code",
   "execution_count": 8,
   "id": "123a1d4c",
   "metadata": {
    "execution": {
     "iopub.execute_input": "2022-05-28T02:15:52.374747Z",
     "iopub.status.busy": "2022-05-28T02:15:52.374521Z",
     "iopub.status.idle": "2022-05-28T02:15:52.595703Z",
     "shell.execute_reply": "2022-05-28T02:15:52.595063Z"
    },
    "papermill": {
     "duration": 0.256034,
     "end_time": "2022-05-28T02:15:52.597539",
     "exception": false,
     "start_time": "2022-05-28T02:15:52.341505",
     "status": "completed"
    },
    "tags": []
   },
   "outputs": [
    {
     "data": {
      "image/png": "[encoded data removed]",
      "text/plain": [
       "<Figure size 648x432 with 1 Axes>"
      ]
     },
     "metadata": {
      "needs_background": "light"
     },
     "output_type": "display_data"
    }
   ],
   "source": [
    "plot_classes_distributions(TRAIN_DIR, 'Distribution of all classes in the Train Set')"
   ]
  },
  {
   "cell_type": "code",
   "execution_count": 9,
   "id": "346149ea",
   "metadata": {
    "execution": {
     "iopub.execute_input": "2022-05-28T02:15:52.664938Z",
     "iopub.status.busy": "2022-05-28T02:15:52.664699Z",
     "iopub.status.idle": "2022-05-28T02:15:52.854534Z",
     "shell.execute_reply": "2022-05-28T02:15:52.853881Z"
    },
    "papermill": {
     "duration": 0.225333,
     "end_time": "2022-05-28T02:15:52.856427",
     "exception": false,
     "start_time": "2022-05-28T02:15:52.631094",
     "status": "completed"
    },
    "tags": []
   },
   "outputs": [
    {
     "data": {
      "image/png": "[encoded data removed]",
      "text/plain": [
       "<Figure size 648x432 with 1 Axes>"
      ]
     },
     "metadata": {
      "needs_background": "light"
     },
     "output_type": "display_data"
    }
   ],
   "source": [
    "plot_classes_distributions(VALID_DIR, 'Distribution of all classes in the Valid Set')"
   ]
  },
  {
   "cell_type": "code",
   "execution_count": 10,
   "id": "0f24d058",
   "metadata": {
    "execution": {
     "iopub.execute_input": "2022-05-28T02:15:52.925747Z",
     "iopub.status.busy": "2022-05-28T02:15:52.925539Z",
     "iopub.status.idle": "2022-05-28T02:15:52.939806Z",
     "shell.execute_reply": "2022-05-28T02:15:52.938443Z"
    },
    "papermill": {
     "duration": 0.051639,
     "end_time": "2022-05-28T02:15:52.941932",
     "exception": false,
     "start_time": "2022-05-28T02:15:52.890293",
     "status": "completed"
    },
    "tags": []
   },
   "outputs": [
    {
     "name": "stdout",
     "output_type": "stream",
     "text": [
      "# of Train rainbow images are: 117\n",
      "# of Train rain images are: 346\n",
      "# of Train hail images are: 405\n",
      "# of Train lightning images are: 248\n",
      "# of Train fogsmog images are: 675\n",
      "# of Train snow images are: 468\n",
      "# of Train glaze images are: 484\n",
      "# of Train rime images are: 953\n",
      "# of Train frost images are: 300\n",
      "# of Train sandstorm images are: 495\n",
      "# of Train dew images are: 501\n",
      "========================================\n",
      "# of Valid rainbow images are: 14\n",
      "# of Valid rain images are: 39\n",
      "# of Valid hail images are: 45\n",
      "# of Valid lightning images are: 28\n",
      "# of Valid fogsmog images are: 75\n",
      "# of Valid snow images are: 52\n",
      "# of Valid glaze images are: 54\n",
      "# of Valid rime images are: 106\n",
      "# of Valid frost images are: 34\n",
      "# of Valid sandstorm images are: 56\n",
      "# of Valid dew images are: 56\n"
     ]
    }
   ],
   "source": [
    "for lbl in class_labels:\n",
    "    print('# of Train {} images are: '.format(lbl) + str(len(os.listdir(TRAIN_DIR + lbl +'/'))))\n",
    "    \n",
    "print('========================================')\n",
    "\n",
    "for lbl in class_labels:\n",
    "    print('# of Valid {} images are: '.format(lbl) + str(len(os.listdir(VALID_DIR + lbl +'/'))))"
   ]
  },
  {
   "cell_type": "markdown",
   "id": "cb509d09",
   "metadata": {
    "papermill": {
     "duration": 0.033609,
     "end_time": "2022-05-28T02:15:53.009879",
     "exception": false,
     "start_time": "2022-05-28T02:15:52.976270",
     "status": "completed"
    },
    "tags": []
   },
   "source": [
    "## Step 3: Deep Learning with Data Augmentation"
   ]
  },
  {
   "cell_type": "markdown",
   "id": "6da851d5",
   "metadata": {
    "papermill": {
     "duration": 0.034063,
     "end_time": "2022-05-28T02:15:53.077716",
     "exception": false,
     "start_time": "2022-05-28T02:15:53.043653",
     "status": "completed"
    },
    "tags": []
   },
   "source": [
    "### Step 3.1: Image Data Generator"
   ]
  },
  {
   "cell_type": "code",
   "execution_count": 11,
   "id": "ece66817",
   "metadata": {
    "execution": {
     "iopub.execute_input": "2022-05-28T02:15:53.146132Z",
     "iopub.status.busy": "2022-05-28T02:15:53.145897Z",
     "iopub.status.idle": "2022-05-28T02:15:58.940447Z",
     "shell.execute_reply": "2022-05-28T02:15:58.939707Z"
    },
    "papermill": {
     "duration": 5.831127,
     "end_time": "2022-05-28T02:15:58.942418",
     "exception": false,
     "start_time": "2022-05-28T02:15:53.111291",
     "status": "completed"
    },
    "tags": []
   },
   "outputs": [
    {
     "name": "stdout",
     "output_type": "stream",
     "text": [
      "Found 4992 images belonging to 11 classes.\n"
     ]
    }
   ],
   "source": [
    "IMG_WIDTH = 224\n",
    "IMG_HEIGHT = 224\n",
    "BATCH_SIZE = 16\n",
    "\n",
    "from tensorflow.keras.preprocessing.image import ImageDataGenerator\n",
    "train_datagen = ImageDataGenerator(rescale = 1/255.0,\n",
    "                                   rotation_range=30,\n",
    "                                   zoom_range=0.4,\n",
    "                                   width_shift_range=0.2,\n",
    "                                   height_shift_range=0.2,\n",
    "                                   shear_range=0.15,\n",
    "                                   horizontal_flip=True)\n",
    "\n",
    "train_generator = train_datagen.flow_from_directory(TRAIN_DIR,\n",
    "                                                    batch_size=BATCH_SIZE,\n",
    "                                                    class_mode='categorical',\n",
    "                                                    target_size=(IMG_HEIGHT, IMG_WIDTH))"
   ]
  },
  {
   "cell_type": "code",
   "execution_count": 12,
   "id": "0e11cf92",
   "metadata": {
    "execution": {
     "iopub.execute_input": "2022-05-28T02:15:59.012914Z",
     "iopub.status.busy": "2022-05-28T02:15:59.012291Z",
     "iopub.status.idle": "2022-05-28T02:15:59.120389Z",
     "shell.execute_reply": "2022-05-28T02:15:59.119725Z"
    },
    "papermill": {
     "duration": 0.144899,
     "end_time": "2022-05-28T02:15:59.122201",
     "exception": false,
     "start_time": "2022-05-28T02:15:58.977302",
     "status": "completed"
    },
    "tags": []
   },
   "outputs": [
    {
     "name": "stdout",
     "output_type": "stream",
     "text": [
      "Found 559 images belonging to 11 classes.\n"
     ]
    }
   ],
   "source": [
    "valid_datagen = ImageDataGenerator(rescale = 1/255.0)\n",
    "\n",
    "valid_generator = valid_datagen.flow_from_directory(VALID_DIR,\n",
    "                                                    batch_size=BATCH_SIZE,\n",
    "                                                    class_mode='categorical',\n",
    "                                                    target_size=(IMG_HEIGHT, IMG_WIDTH))"
   ]
  },
  {
   "cell_type": "code",
   "execution_count": 13,
   "id": "0202db37",
   "metadata": {
    "execution": {
     "iopub.execute_input": "2022-05-28T02:15:59.192216Z",
     "iopub.status.busy": "2022-05-28T02:15:59.191995Z",
     "iopub.status.idle": "2022-05-28T02:15:59.197519Z",
     "shell.execute_reply": "2022-05-28T02:15:59.196827Z"
    },
    "papermill": {
     "duration": 0.043074,
     "end_time": "2022-05-28T02:15:59.199687",
     "exception": false,
     "start_time": "2022-05-28T02:15:59.156613",
     "status": "completed"
    },
    "tags": []
   },
   "outputs": [
    {
     "data": {
      "text/plain": [
       "{'dew': 0,\n",
       " 'fogsmog': 1,\n",
       " 'frost': 2,\n",
       " 'glaze': 3,\n",
       " 'hail': 4,\n",
       " 'lightning': 5,\n",
       " 'rain': 6,\n",
       " 'rainbow': 7,\n",
       " 'rime': 8,\n",
       " 'sandstorm': 9,\n",
       " 'snow': 10}"
      ]
     },
     "execution_count": 13,
     "metadata": {},
     "output_type": "execute_result"
    }
   ],
   "source": [
    "train_generator.class_indices"
   ]
  },
  {
   "cell_type": "markdown",
   "id": "0156b17c",
   "metadata": {
    "papermill": {
     "duration": 0.034764,
     "end_time": "2022-05-28T02:15:59.268987",
     "exception": false,
     "start_time": "2022-05-28T02:15:59.234223",
     "status": "completed"
    },
    "tags": []
   },
   "source": [
    "### Step 3.2: Building The Model"
   ]
  },
  {
   "cell_type": "code",
   "execution_count": 14,
   "id": "9abbcc42",
   "metadata": {
    "execution": {
     "iopub.execute_input": "2022-05-28T02:15:59.339822Z",
     "iopub.status.busy": "2022-05-28T02:15:59.339213Z",
     "iopub.status.idle": "2022-05-28T02:15:59.358514Z",
     "shell.execute_reply": "2022-05-28T02:15:59.357828Z"
    },
    "papermill": {
     "duration": 0.05671,
     "end_time": "2022-05-28T02:15:59.360331",
     "exception": false,
     "start_time": "2022-05-28T02:15:59.303621",
     "status": "completed"
    },
    "tags": []
   },
   "outputs": [],
   "source": [
    "from tensorflow.keras.models import Sequential\n",
    "from tensorflow.keras.layers import Conv2D, MaxPooling2D, Flatten, Dense, Dropout, BatchNormalization, MaxPool2D, Activation\n",
    "\n",
    "def VGG16(W_IMG=IMG_WIDTH, H_IMG=IMG_HEIGHT, N_CLASSES=11):\n",
    "    model = Sequential()\n",
    "    model.add(Conv2D(input_shape=(W_IMG, H_IMG, 3),filters=64,kernel_size=(3,3),padding=\"same\", activation=\"relu\"))\n",
    "    model.add(Conv2D(filters=64,kernel_size=(3,3),padding=\"same\", activation=\"relu\"))\n",
    "    model.add(MaxPool2D(pool_size=(2,2),strides=(2,2)))\n",
    "    model.add(Conv2D(filters=128, kernel_size=(3,3), padding=\"same\", activation=\"relu\"))\n",
    "    model.add(Conv2D(filters=128, kernel_size=(3,3), padding=\"same\", activation=\"relu\"))\n",
    "    model.add(MaxPool2D(pool_size=(2,2),strides=(2,2)))\n",
    "    model.add(Conv2D(filters=256, kernel_size=(3,3), padding=\"same\", activation=\"relu\"))\n",
    "    model.add(Conv2D(filters=256, kernel_size=(3,3), padding=\"same\", activation=\"relu\"))\n",
    "    model.add(Conv2D(filters=256, kernel_size=(3,3), padding=\"same\", activation=\"relu\"))\n",
    "    model.add(MaxPool2D(pool_size=(2,2),strides=(2,2)))\n",
    "    model.add(Conv2D(filters=512, kernel_size=(3,3), padding=\"same\", activation=\"relu\"))\n",
    "    model.add(Conv2D(filters=512, kernel_size=(3,3), padding=\"same\", activation=\"relu\"))\n",
    "    model.add(Conv2D(filters=512, kernel_size=(3,3), padding=\"same\", activation=\"relu\"))\n",
    "    model.add(MaxPool2D(pool_size=(2,2),strides=(2,2)))\n",
    "    model.add(Conv2D(filters=512, kernel_size=(3,3), padding=\"same\", activation=\"relu\"))\n",
    "    model.add(Conv2D(filters=512, kernel_size=(3,3), padding=\"same\", activation=\"relu\"))\n",
    "    model.add(Conv2D(filters=512, kernel_size=(3,3), padding=\"same\", activation=\"relu\"))\n",
    "    model.add(MaxPool2D(pool_size=(2,2),strides=(2,2),name='vgg16'))\n",
    "    model.add(Flatten())\n",
    "    model.add(Dropout(0.3))\n",
    "    model.add(Dense(768, activation='relu', name='fc1'))\n",
    "    model.add(Dropout(0.25))\n",
    "    model.add(Dense(256, activation='relu', name='fc2'))\n",
    "    model.add(Dropout(0.25))\n",
    "    model.add(Dense(N_CLASSES, activation='softmax', name='output'))\n",
    "    return model"
   ]
  },
  {
   "cell_type": "code",
   "execution_count": 15,
   "id": "2c36eb14",
   "metadata": {
    "execution": {
     "iopub.execute_input": "2022-05-28T02:15:59.434725Z",
     "iopub.status.busy": "2022-05-28T02:15:59.434511Z",
     "iopub.status.idle": "2022-05-28T02:16:02.302272Z",
     "shell.execute_reply": "2022-05-28T02:16:02.301557Z"
    },
    "papermill": {
     "duration": 2.908531,
     "end_time": "2022-05-28T02:16:02.306071",
     "exception": false,
     "start_time": "2022-05-28T02:15:59.397540",
     "status": "completed"
    },
    "tags": []
   },
   "outputs": [
    {
     "name": "stdout",
     "output_type": "stream",
     "text": [
      "Model: \"sequential\"\n",
      "_________________________________________________________________\n",
      "Layer (type)                 Output Shape              Param #   \n",
      "=================================================================\n",
      "conv2d (Conv2D)              (None, 224, 224, 64)      1792      \n",
      "_________________________________________________________________\n",
      "conv2d_1 (Conv2D)            (None, 224, 224, 64)      36928     \n",
      "_________________________________________________________________\n",
      "max_pooling2d (MaxPooling2D) (None, 112, 112, 64)      0         \n",
      "_________________________________________________________________\n",
      "conv2d_2 (Conv2D)            (None, 112, 112, 128)     73856     \n",
      "_________________________________________________________________\n",
      "conv2d_3 (Conv2D)            (None, 112, 112, 128)     147584    \n",
      "_________________________________________________________________\n",
      "max_pooling2d_1 (MaxPooling2 (None, 56, 56, 128)       0         \n",
      "_________________________________________________________________\n",
      "conv2d_4 (Conv2D)            (None, 56, 56, 256)       295168    \n",
      "_________________________________________________________________\n",
      "conv2d_5 (Conv2D)            (None, 56, 56, 256)       590080    \n",
      "_________________________________________________________________\n",
      "conv2d_6 (Conv2D)            (None, 56, 56, 256)       590080    \n",
      "_________________________________________________________________\n",
      "max_pooling2d_2 (MaxPooling2 (None, 28, 28, 256)       0         \n",
      "_________________________________________________________________\n",
      "conv2d_7 (Conv2D)            (None, 28, 28, 512)       1180160   \n",
      "_________________________________________________________________\n",
      "conv2d_8 (Conv2D)            (None, 28, 28, 512)       2359808   \n",
      "_________________________________________________________________\n",
      "conv2d_9 (Conv2D)            (None, 28, 28, 512)       2359808   \n",
      "_________________________________________________________________\n",
      "max_pooling2d_3 (MaxPooling2 (None, 14, 14, 512)       0         \n",
      "_________________________________________________________________\n",
      "conv2d_10 (Conv2D)           (None, 14, 14, 512)       2359808   \n",
      "_________________________________________________________________\n",
      "conv2d_11 (Conv2D)           (None, 14, 14, 512)       2359808   \n",
      "_________________________________________________________________\n",
      "conv2d_12 (Conv2D)           (None, 14, 14, 512)       2359808   \n",
      "_________________________________________________________________\n",
      "vgg16 (MaxPooling2D)         (None, 7, 7, 512)         0         \n",
      "_________________________________________________________________\n",
      "flatten (Flatten)            (None, 25088)             0         \n",
      "_________________________________________________________________\n",
      "dropout (Dropout)            (None, 25088)             0         \n",
      "_________________________________________________________________\n",
      "fc1 (Dense)                  (None, 768)               19268352  \n",
      "_________________________________________________________________\n",
      "dropout_1 (Dropout)          (None, 768)               0         \n",
      "_________________________________________________________________\n",
      "fc2 (Dense)                  (None, 256)               196864    \n",
      "_________________________________________________________________\n",
      "dropout_2 (Dropout)          (None, 256)               0         \n",
      "_________________________________________________________________\n",
      "output (Dense)               (None, 11)                2827      \n",
      "=================================================================\n",
      "Total params: 34,182,731\n",
      "Trainable params: 34,182,731\n",
      "Non-trainable params: 0\n",
      "_________________________________________________________________\n"
     ]
    },
    {
     "name": "stderr",
     "output_type": "stream",
     "text": [
      "2022-05-28 02:15:59.518460: I tensorflow/stream_executor/cuda/cuda_gpu_executor.cc:937] successful NUMA node read from SysFS had negative value (-1), but there must be at least one NUMA node, so returning NUMA node zero\n",
      "2022-05-28 02:15:59.638651: I tensorflow/stream_executor/cuda/cuda_gpu_executor.cc:937] successful NUMA node read from SysFS had negative value (-1), but there must be at least one NUMA node, so returning NUMA node zero\n",
      "2022-05-28 02:15:59.639412: I tensorflow/stream_executor/cuda/cuda_gpu_executor.cc:937] successful NUMA node read from SysFS had negative value (-1), but there must be at least one NUMA node, so returning NUMA node zero\n",
      "2022-05-28 02:15:59.640581: I tensorflow/core/platform/cpu_feature_guard.cc:142] This TensorFlow binary is optimized with oneAPI Deep Neural Network Library (oneDNN) to use the following CPU instructions in performance-critical operations:  AVX2 AVX512F FMA\n",
      "To enable them in other operations, rebuild TensorFlow with the appropriate compiler flags.\n",
      "2022-05-28 02:15:59.640867: I tensorflow/stream_executor/cuda/cuda_gpu_executor.cc:937] successful NUMA node read from SysFS had negative value (-1), but there must be at least one NUMA node, so returning NUMA node zero\n",
      "2022-05-28 02:15:59.641611: I tensorflow/stream_executor/cuda/cuda_gpu_executor.cc:937] successful NUMA node read from SysFS had negative value (-1), but there must be at least one NUMA node, so returning NUMA node zero\n",
      "2022-05-28 02:15:59.642286: I tensorflow/stream_executor/cuda/cuda_gpu_executor.cc:937] successful NUMA node read from SysFS had negative value (-1), but there must be at least one NUMA node, so returning NUMA node zero\n",
      "2022-05-28 02:16:01.817373: I tensorflow/stream_executor/cuda/cuda_gpu_executor.cc:937] successful NUMA node read from SysFS had negative value (-1), but there must be at least one NUMA node, so returning NUMA node zero\n",
      "2022-05-28 02:16:01.818255: I tensorflow/stream_executor/cuda/cuda_gpu_executor.cc:937] successful NUMA node read from SysFS had negative value (-1), but there must be at least one NUMA node, so returning NUMA node zero\n",
      "2022-05-28 02:16:01.818970: I tensorflow/stream_executor/cuda/cuda_gpu_executor.cc:937] successful NUMA node read from SysFS had negative value (-1), but there must be at least one NUMA node, so returning NUMA node zero\n",
      "2022-05-28 02:16:01.820240: I tensorflow/core/common_runtime/gpu/gpu_device.cc:1510] Created device /job:localhost/replica:0/task:0/device:GPU:0 with 15403 MB memory:  -> device: 0, name: Tesla P100-PCIE-16GB, pci bus id: 0000:00:04.0, compute capability: 6.0\n"
     ]
    }
   ],
   "source": [
    "import warnings\n",
    "warnings.filterwarnings('ignore')\n",
    "\n",
    "model = VGG16()\n",
    "model.summary()"
   ]
  },
  {
   "cell_type": "code",
   "execution_count": 16,
   "id": "b21cf7c3",
   "metadata": {
    "execution": {
     "iopub.execute_input": "2022-05-28T02:16:02.380496Z",
     "iopub.status.busy": "2022-05-28T02:16:02.380281Z",
     "iopub.status.idle": "2022-05-28T02:16:02.388518Z",
     "shell.execute_reply": "2022-05-28T02:16:02.387864Z"
    },
    "papermill": {
     "duration": 0.047192,
     "end_time": "2022-05-28T02:16:02.390238",
     "exception": false,
     "start_time": "2022-05-28T02:16:02.343046",
     "status": "completed"
    },
    "tags": []
   },
   "outputs": [],
   "source": [
    "from keras.models import Model\n",
    "Vgg16 = Model(inputs=model.input, outputs=model.get_layer('vgg16').output)"
   ]
  },
  {
   "cell_type": "code",
   "execution_count": 17,
   "id": "1706f52c",
   "metadata": {
    "execution": {
     "iopub.execute_input": "2022-05-28T02:16:02.463708Z",
     "iopub.status.busy": "2022-05-28T02:16:02.463471Z",
     "iopub.status.idle": "2022-05-28T02:16:06.153581Z",
     "shell.execute_reply": "2022-05-28T02:16:06.152788Z"
    },
    "papermill": {
     "duration": 3.729453,
     "end_time": "2022-05-28T02:16:06.155868",
     "exception": false,
     "start_time": "2022-05-28T02:16:02.426415",
     "status": "completed"
    },
    "tags": []
   },
   "outputs": [
    {
     "name": "stdout",
     "output_type": "stream",
     "text": [
      "Downloading data from https://github.com/fchollet/deep-learning-models/releases/download/v0.1/vgg16_weights_tf_dim_ordering_tf_kernels_notop.h5\n",
      "58892288/58889256 [==============================] - 3s 0us/step\n",
      "58900480/58889256 [==============================] - 3s 0us/step\n"
     ]
    }
   ],
   "source": [
    "import tensorflow as tf\n",
    "\n",
    "# Load weights\n",
    "WEIGHTS_PATH_NO_TOP = ('https://github.com/fchollet/deep-learning-models/'\n",
    "                       'releases/download/v0.1/'\n",
    "                       'vgg16_weights_tf_dim_ordering_tf_kernels_notop.h5')\n",
    "\n",
    "weights_path = tf.keras.utils.get_file(\n",
    "    'vgg16_weights_tf_dim_ordering_tf_kernels_notop.h5',\n",
    "    WEIGHTS_PATH_NO_TOP,\n",
    "    cache_subdir='models',\n",
    "    file_hash='6d6bbae143d832006294945121d1f1fc')\n",
    "\n",
    "Vgg16.load_weights(weights_path)"
   ]
  },
  {
   "cell_type": "code",
   "execution_count": 18,
   "id": "48f75aa5",
   "metadata": {
    "execution": {
     "iopub.execute_input": "2022-05-28T02:16:06.290275Z",
     "iopub.status.busy": "2022-05-28T02:16:06.289999Z",
     "iopub.status.idle": "2022-05-28T02:16:06.316564Z",
     "shell.execute_reply": "2022-05-28T02:16:06.315913Z"
    },
    "papermill": {
     "duration": 0.083726,
     "end_time": "2022-05-28T02:16:06.318222",
     "exception": false,
     "start_time": "2022-05-28T02:16:06.234496",
     "status": "completed"
    },
    "tags": []
   },
   "outputs": [
    {
     "name": "stdout",
     "output_type": "stream",
     "text": [
      "<keras.layers.convolutional.Conv2D object at 0x7f73424fc050> False\n",
      "<keras.layers.convolutional.Conv2D object at 0x7f7342728750> False\n",
      "<keras.layers.pooling.MaxPooling2D object at 0x7f73421bfd90> False\n",
      "<keras.layers.convolutional.Conv2D object at 0x7f734226d8d0> False\n",
      "<keras.layers.convolutional.Conv2D object at 0x7f73421bfe50> False\n",
      "<keras.layers.pooling.MaxPooling2D object at 0x7f734227df10> False\n",
      "<keras.layers.convolutional.Conv2D object at 0x7f7342280ad0> False\n",
      "<keras.layers.convolutional.Conv2D object at 0x7f7342289c10> False\n",
      "<keras.layers.convolutional.Conv2D object at 0x7f7342750150> False\n",
      "<keras.layers.pooling.MaxPooling2D object at 0x7f7342294e90> False\n",
      "<keras.layers.convolutional.Conv2D object at 0x7f734227d450> False\n",
      "<keras.layers.convolutional.Conv2D object at 0x7f734228f190> False\n",
      "<keras.layers.convolutional.Conv2D object at 0x7f734227d150> False\n",
      "<keras.layers.pooling.MaxPooling2D object at 0x7f7340578790> False\n",
      "<keras.layers.convolutional.Conv2D object at 0x7f734057e110> False\n",
      "<keras.layers.convolutional.Conv2D object at 0x7f7342280890> False\n",
      "<keras.layers.convolutional.Conv2D object at 0x7f7340583850> False\n",
      "<keras.layers.pooling.MaxPooling2D object at 0x7f7342289710> False\n",
      "<keras.layers.core.Flatten object at 0x7f7342269f50> True\n",
      "<keras.layers.core.Dropout object at 0x7f7340579e50> True\n",
      "<keras.layers.core.Dense object at 0x7f7342284c90> True\n",
      "<keras.layers.core.Dropout object at 0x7f734c0b0ed0> True\n",
      "<keras.layers.core.Dense object at 0x7f73405a9390> True\n",
      "<keras.layers.core.Dropout object at 0x7f73405877d0> True\n",
      "<keras.layers.core.Dense object at 0x7f7340578d90> True\n",
      "Model: \"sequential\"\n",
      "_________________________________________________________________\n",
      "Layer (type)                 Output Shape              Param #   \n",
      "=================================================================\n",
      "conv2d (Conv2D)              (None, 224, 224, 64)      1792      \n",
      "_________________________________________________________________\n",
      "conv2d_1 (Conv2D)            (None, 224, 224, 64)      36928     \n",
      "_________________________________________________________________\n",
      "max_pooling2d (MaxPooling2D) (None, 112, 112, 64)      0         \n",
      "_________________________________________________________________\n",
      "conv2d_2 (Conv2D)            (None, 112, 112, 128)     73856     \n",
      "_________________________________________________________________\n",
      "conv2d_3 (Conv2D)            (None, 112, 112, 128)     147584    \n",
      "_________________________________________________________________\n",
      "max_pooling2d_1 (MaxPooling2 (None, 56, 56, 128)       0         \n",
      "_________________________________________________________________\n",
      "conv2d_4 (Conv2D)            (None, 56, 56, 256)       295168    \n",
      "_________________________________________________________________\n",
      "conv2d_5 (Conv2D)            (None, 56, 56, 256)       590080    \n",
      "_________________________________________________________________\n",
      "conv2d_6 (Conv2D)            (None, 56, 56, 256)       590080    \n",
      "_________________________________________________________________\n",
      "max_pooling2d_2 (MaxPooling2 (None, 28, 28, 256)       0         \n",
      "_________________________________________________________________\n",
      "conv2d_7 (Conv2D)            (None, 28, 28, 512)       1180160   \n",
      "_________________________________________________________________\n",
      "conv2d_8 (Conv2D)            (None, 28, 28, 512)       2359808   \n",
      "_________________________________________________________________\n",
      "conv2d_9 (Conv2D)            (None, 28, 28, 512)       2359808   \n",
      "_________________________________________________________________\n",
      "max_pooling2d_3 (MaxPooling2 (None, 14, 14, 512)       0         \n",
      "_________________________________________________________________\n",
      "conv2d_10 (Conv2D)           (None, 14, 14, 512)       2359808   \n",
      "_________________________________________________________________\n",
      "conv2d_11 (Conv2D)           (None, 14, 14, 512)       2359808   \n",
      "_________________________________________________________________\n",
      "conv2d_12 (Conv2D)           (None, 14, 14, 512)       2359808   \n",
      "_________________________________________________________________\n",
      "vgg16 (MaxPooling2D)         (None, 7, 7, 512)         0         \n",
      "_________________________________________________________________\n",
      "flatten (Flatten)            (None, 25088)             0         \n",
      "_________________________________________________________________\n",
      "dropout (Dropout)            (None, 25088)             0         \n",
      "_________________________________________________________________\n",
      "fc1 (Dense)                  (None, 768)               19268352  \n",
      "_________________________________________________________________\n",
      "dropout_1 (Dropout)          (None, 768)               0         \n",
      "_________________________________________________________________\n",
      "fc2 (Dense)                  (None, 256)               196864    \n",
      "_________________________________________________________________\n",
      "dropout_2 (Dropout)          (None, 256)               0         \n",
      "_________________________________________________________________\n",
      "output (Dense)               (None, 11)                2827      \n",
      "=================================================================\n",
      "Total params: 34,182,731\n",
      "Trainable params: 19,468,043\n",
      "Non-trainable params: 14,714,688\n",
      "_________________________________________________________________\n"
     ]
    }
   ],
   "source": [
    "### Freezing the Weights ###\n",
    "for layer in Vgg16.layers:\n",
    "    layer.trainable = False\n",
    "\n",
    "for layer in model.layers:\n",
    "    print(layer, layer.trainable)\n",
    "    \n",
    "model.summary()"
   ]
  },
  {
   "cell_type": "markdown",
   "id": "585c02bf",
   "metadata": {
    "papermill": {
     "duration": 0.055597,
     "end_time": "2022-05-28T02:16:06.426396",
     "exception": false,
     "start_time": "2022-05-28T02:16:06.370799",
     "status": "completed"
    },
    "tags": []
   },
   "source": [
    "### Step 3.3: Model Optimizer"
   ]
  },
  {
   "cell_type": "code",
   "execution_count": 19,
   "id": "2d7d52dc",
   "metadata": {
    "execution": {
     "iopub.execute_input": "2022-05-28T02:16:06.525717Z",
     "iopub.status.busy": "2022-05-28T02:16:06.525473Z",
     "iopub.status.idle": "2022-05-28T02:16:06.538046Z",
     "shell.execute_reply": "2022-05-28T02:16:06.537398Z"
    },
    "papermill": {
     "duration": 0.064747,
     "end_time": "2022-05-28T02:16:06.540142",
     "exception": false,
     "start_time": "2022-05-28T02:16:06.475395",
     "status": "completed"
    },
    "tags": []
   },
   "outputs": [],
   "source": [
    "from tensorflow.keras.optimizers import Adam\n",
    "# from tensorflow.keras.optimizers import SGD\n",
    "\n",
    "model.compile(loss=\"categorical_crossentropy\", optimizer=Adam(lr=1e-4), metrics=[\"accuracy\"])\n",
    "# model.compile(loss=\"categorical_crossentropy\", optimizer=SGD(lr=1e-4, momentum=0.9), metrics=[\"accuracy\"])"
   ]
  },
  {
   "cell_type": "markdown",
   "id": "7dbf8014",
   "metadata": {
    "papermill": {
     "duration": 0.048272,
     "end_time": "2022-05-28T02:16:06.637323",
     "exception": false,
     "start_time": "2022-05-28T02:16:06.589051",
     "status": "completed"
    },
    "tags": []
   },
   "source": [
    "### Step 3.4: Model Checkpoint & EarlyStopping Callback"
   ]
  },
  {
   "cell_type": "code",
   "execution_count": 20,
   "id": "c0a8fcb5",
   "metadata": {
    "execution": {
     "iopub.execute_input": "2022-05-28T02:16:06.735861Z",
     "iopub.status.busy": "2022-05-28T02:16:06.735614Z",
     "iopub.status.idle": "2022-05-28T02:16:06.742285Z",
     "shell.execute_reply": "2022-05-28T02:16:06.741640Z"
    },
    "papermill": {
     "duration": 0.057978,
     "end_time": "2022-05-28T02:16:06.743974",
     "exception": false,
     "start_time": "2022-05-28T02:16:06.685996",
     "status": "completed"
    },
    "tags": []
   },
   "outputs": [],
   "source": [
    "from tensorflow.keras.callbacks import EarlyStopping, ModelCheckpoint\n",
    "# autosave best Model\n",
    "checkpoint_path = 'training/vgg16_best_model.ckpt'\n",
    "checkpoint_dir = os.path.dirname(checkpoint_path)\n",
    "early = EarlyStopping(monitor='val_accuracy', mode='max', verbose=1, patience=10)\n",
    "checkpoint = ModelCheckpoint(checkpoint_path, monitor='val_acc', verbose=1, save_best_only=True, mode='max')"
   ]
  },
  {
   "cell_type": "markdown",
   "id": "7978b774",
   "metadata": {
    "papermill": {
     "duration": 0.05013,
     "end_time": "2022-05-28T02:16:06.844496",
     "exception": false,
     "start_time": "2022-05-28T02:16:06.794366",
     "status": "completed"
    },
    "tags": []
   },
   "source": [
    "### Step 3.5: Model Training"
   ]
  },
  {
   "cell_type": "code",
   "execution_count": 21,
   "id": "39628fc9",
   "metadata": {
    "execution": {
     "iopub.execute_input": "2022-05-28T02:16:06.987723Z",
     "iopub.status.busy": "2022-05-28T02:16:06.987454Z",
     "iopub.status.idle": "2022-05-28T02:46:23.666344Z",
     "shell.execute_reply": "2022-05-28T02:46:23.665494Z"
    },
    "papermill": {
     "duration": 1816.764348,
     "end_time": "2022-05-28T02:46:23.668873",
     "exception": false,
     "start_time": "2022-05-28T02:16:06.904525",
     "status": "completed"
    },
    "tags": []
   },
   "outputs": [
    {
     "name": "stderr",
     "output_type": "stream",
     "text": [
      "2022-05-28 02:16:07.318459: I tensorflow/compiler/mlir/mlir_graph_optimization_pass.cc:185] None of the MLIR Optimization Passes are enabled (registered 2)\n"
     ]
    },
    {
     "name": "stdout",
     "output_type": "stream",
     "text": [
      "Epoch 1/50\n"
     ]
    },
    {
     "name": "stderr",
     "output_type": "stream",
     "text": [
      "2022-05-28 02:16:09.097519: I tensorflow/stream_executor/cuda/cuda_dnn.cc:369] Loaded cuDNN version 8005\n"
     ]
    },
    {
     "name": "stdout",
     "output_type": "stream",
     "text": [
      "312/312 [==============================] - 93s 270ms/step - loss: 1.5793 - accuracy: 0.4505 - val_loss: 0.9231 - val_accuracy: 0.6834\n",
      "Epoch 2/50\n",
      "312/312 [==============================] - 82s 264ms/step - loss: 1.1510 - accuracy: 0.5966 - val_loss: 0.7693 - val_accuracy: 0.7156\n",
      "Epoch 3/50\n",
      "312/312 [==============================] - 82s 262ms/step - loss: 0.9657 - accuracy: 0.6637 - val_loss: 0.7012 - val_accuracy: 0.7585\n",
      "Epoch 4/50\n",
      "312/312 [==============================] - 83s 264ms/step - loss: 0.9137 - accuracy: 0.6765 - val_loss: 0.6461 - val_accuracy: 0.7657\n",
      "Epoch 5/50\n",
      "312/312 [==============================] - 83s 264ms/step - loss: 0.8610 - accuracy: 0.7025 - val_loss: 0.6590 - val_accuracy: 0.7657\n",
      "Epoch 6/50\n",
      "312/312 [==============================] - 83s 267ms/step - loss: 0.8239 - accuracy: 0.7111 - val_loss: 0.6009 - val_accuracy: 0.7925\n",
      "Epoch 7/50\n",
      "312/312 [==============================] - 83s 265ms/step - loss: 0.7775 - accuracy: 0.7252 - val_loss: 0.6186 - val_accuracy: 0.7925\n",
      "Epoch 8/50\n",
      "312/312 [==============================] - 83s 267ms/step - loss: 0.7673 - accuracy: 0.7332 - val_loss: 0.6144 - val_accuracy: 0.7818\n",
      "Epoch 9/50\n",
      "312/312 [==============================] - 83s 266ms/step - loss: 0.7386 - accuracy: 0.7388 - val_loss: 0.5771 - val_accuracy: 0.7853\n",
      "Epoch 10/50\n",
      "312/312 [==============================] - 83s 266ms/step - loss: 0.7143 - accuracy: 0.7492 - val_loss: 0.5287 - val_accuracy: 0.8086\n",
      "Epoch 11/50\n",
      "312/312 [==============================] - 84s 269ms/step - loss: 0.6963 - accuracy: 0.7562 - val_loss: 0.5281 - val_accuracy: 0.8193\n",
      "Epoch 12/50\n",
      "312/312 [==============================] - 84s 271ms/step - loss: 0.6656 - accuracy: 0.7618 - val_loss: 0.5204 - val_accuracy: 0.7925\n",
      "Epoch 13/50\n",
      "312/312 [==============================] - 83s 264ms/step - loss: 0.6563 - accuracy: 0.7732 - val_loss: 0.4927 - val_accuracy: 0.8175\n",
      "Epoch 14/50\n",
      "312/312 [==============================] - 84s 270ms/step - loss: 0.6417 - accuracy: 0.7770 - val_loss: 0.5092 - val_accuracy: 0.8122\n",
      "Epoch 15/50\n",
      "312/312 [==============================] - 83s 265ms/step - loss: 0.6532 - accuracy: 0.7676 - val_loss: 0.5110 - val_accuracy: 0.7996\n",
      "Epoch 16/50\n",
      "312/312 [==============================] - 85s 274ms/step - loss: 0.6371 - accuracy: 0.7766 - val_loss: 0.4885 - val_accuracy: 0.8140\n",
      "Epoch 17/50\n",
      "312/312 [==============================] - 84s 270ms/step - loss: 0.6137 - accuracy: 0.7865 - val_loss: 0.4868 - val_accuracy: 0.8157\n",
      "Epoch 18/50\n",
      "312/312 [==============================] - 85s 272ms/step - loss: 0.6093 - accuracy: 0.7853 - val_loss: 0.4869 - val_accuracy: 0.8104\n",
      "Epoch 19/50\n",
      "312/312 [==============================] - 86s 276ms/step - loss: 0.6042 - accuracy: 0.7841 - val_loss: 0.5092 - val_accuracy: 0.8175\n",
      "Epoch 20/50\n",
      "312/312 [==============================] - 84s 270ms/step - loss: 0.5938 - accuracy: 0.7883 - val_loss: 0.4815 - val_accuracy: 0.8014\n",
      "Epoch 21/50\n",
      "312/312 [==============================] - 86s 274ms/step - loss: 0.5811 - accuracy: 0.7953 - val_loss: 0.5161 - val_accuracy: 0.8157\n",
      "Epoch 00021: early stopping\n"
     ]
    }
   ],
   "source": [
    "history = model.fit_generator(train_generator,\n",
    "                              epochs=50,\n",
    "                              verbose=1,\n",
    "                              validation_data=valid_generator,\n",
    "                              callbacks = [checkpoint, early])"
   ]
  },
  {
   "cell_type": "markdown",
   "id": "20cd1848",
   "metadata": {
    "papermill": {
     "duration": 2.067146,
     "end_time": "2022-05-28T02:46:27.853903",
     "exception": false,
     "start_time": "2022-05-28T02:46:25.786757",
     "status": "completed"
    },
    "tags": []
   },
   "source": [
    "## Step 4: Model Evaluation"
   ]
  },
  {
   "cell_type": "code",
   "execution_count": 22,
   "id": "3af2caee",
   "metadata": {
    "execution": {
     "iopub.execute_input": "2022-05-28T02:46:32.318966Z",
     "iopub.status.busy": "2022-05-28T02:46:32.318040Z",
     "iopub.status.idle": "2022-05-28T02:46:35.666887Z",
     "shell.execute_reply": "2022-05-28T02:46:35.665943Z"
    },
    "papermill": {
     "duration": 5.722192,
     "end_time": "2022-05-28T02:46:35.669404",
     "exception": false,
     "start_time": "2022-05-28T02:46:29.947212",
     "status": "completed"
    },
    "tags": []
   },
   "outputs": [
    {
     "name": "stdout",
     "output_type": "stream",
     "text": [
      "Loss: 0.5161 Score: 0.8157\n"
     ]
    }
   ],
   "source": [
    "evl = model.evaluate_generator(valid_generator)\n",
    "print(\"Loss: {:0.4f}\".format(evl[0]), \"Score: {:0.4f}\".format(evl[1]))"
   ]
  },
  {
   "cell_type": "markdown",
   "id": "e8126831",
   "metadata": {
    "papermill": {
     "duration": 2.068994,
     "end_time": "2022-05-28T02:46:39.800590",
     "exception": false,
     "start_time": "2022-05-28T02:46:37.731596",
     "status": "completed"
    },
    "tags": []
   },
   "source": [
    "### Step 4.1: Performance Visusalization"
   ]
  },
  {
   "cell_type": "code",
   "execution_count": 23,
   "id": "504f498a",
   "metadata": {
    "execution": {
     "iopub.execute_input": "2022-05-28T02:46:44.815673Z",
     "iopub.status.busy": "2022-05-28T02:46:44.815418Z",
     "iopub.status.idle": "2022-05-28T02:46:45.024921Z",
     "shell.execute_reply": "2022-05-28T02:46:45.024257Z"
    },
    "papermill": {
     "duration": 3.146584,
     "end_time": "2022-05-28T02:46:45.026837",
     "exception": false,
     "start_time": "2022-05-28T02:46:41.880253",
     "status": "completed"
    },
    "tags": []
   },
   "outputs": [
    {
     "data": {
      "image/png": "[encoded data removed]",
      "text/plain": [
       "<Figure size 432x288 with 1 Axes>"
      ]
     },
     "metadata": {
      "needs_background": "light"
     },
     "output_type": "display_data"
    }
   ],
   "source": [
    "acc = history.history['accuracy']\n",
    "val_acc = history.history['val_accuracy']\n",
    "loss = history.history['loss']\n",
    "val_loss = history.history['val_loss']\n",
    "\n",
    "epochs=range(len(acc))\n",
    "\n",
    "import matplotlib.pyplot as plt\n",
    "plt.plot(epochs, acc, 'r', label=\"Training Accuracy\")\n",
    "plt.plot(epochs, val_acc, 'b', label=\"Validation Accuracy\")\n",
    "plt.plot(epochs, loss, 'r', label=\"Training Loss\")\n",
    "plt.plot(epochs, val_loss, 'b', label=\"Validation Loss\")\n",
    "plt.title(\"Model Accuracy\")\n",
    "plt.ylabel(\"Accuracy\")\n",
    "plt.xlabel(\"Epoch\")\n",
    "plt.legend([\"Accuracy\",\"Validation Accuracy\",\"loss\",\"Validation Loss\"])\n",
    "plt.show()"
   ]
  },
  {
   "cell_type": "markdown",
   "id": "162da396",
   "metadata": {
    "papermill": {
     "duration": 2.062898,
     "end_time": "2022-05-28T02:46:49.204126",
     "exception": false,
     "start_time": "2022-05-28T02:46:47.141228",
     "status": "completed"
    },
    "tags": []
   },
   "source": [
    "## Step 5: Model Prediction"
   ]
  },
  {
   "cell_type": "markdown",
   "id": "9f9cf271",
   "metadata": {
    "papermill": {
     "duration": 2.085244,
     "end_time": "2022-05-28T02:46:53.354537",
     "exception": false,
     "start_time": "2022-05-28T02:46:51.269293",
     "status": "completed"
    },
    "tags": []
   },
   "source": [
    "### Step 5.1: Reading Test Images into a Dataframe"
   ]
  },
  {
   "cell_type": "code",
   "execution_count": 24,
   "id": "244beb60",
   "metadata": {
    "execution": {
     "iopub.execute_input": "2022-05-28T02:46:57.756069Z",
     "iopub.status.busy": "2022-05-28T02:46:57.755719Z",
     "iopub.status.idle": "2022-05-28T02:46:57.779040Z",
     "shell.execute_reply": "2022-05-28T02:46:57.778328Z"
    },
    "papermill": {
     "duration": 2.081904,
     "end_time": "2022-05-28T02:46:57.781413",
     "exception": false,
     "start_time": "2022-05-28T02:46:55.699509",
     "status": "completed"
    },
    "tags": []
   },
   "outputs": [
    {
     "name": "stdout",
     "output_type": "stream",
     "text": [
      "Number of Loaded Test Data Samples:  1300\n"
     ]
    }
   ],
   "source": [
    "import pandas as pd\n",
    "TEST_DIR = '../input/nn22-weather-analysis-using-image-recognition/Dataset/Test'\n",
    "img_path = os.listdir(TEST_DIR)\n",
    "test_df = pd.DataFrame({'image_name': img_path})\n",
    "n_test_samples = test_df.shape[0]\n",
    "print(\"Number of Loaded Test Data Samples: \", n_test_samples)"
   ]
  },
  {
   "cell_type": "markdown",
   "id": "a2fbe178",
   "metadata": {
    "papermill": {
     "duration": 2.093334,
     "end_time": "2022-05-28T02:47:01.973631",
     "exception": false,
     "start_time": "2022-05-28T02:46:59.880297",
     "status": "completed"
    },
    "tags": []
   },
   "source": [
    "### Step 5.2: Test Image Data Generator"
   ]
  },
  {
   "cell_type": "code",
   "execution_count": 25,
   "id": "e04b39b0",
   "metadata": {
    "execution": {
     "iopub.execute_input": "2022-05-28T02:47:06.747376Z",
     "iopub.status.busy": "2022-05-28T02:47:06.746892Z",
     "iopub.status.idle": "2022-05-28T02:47:07.434709Z",
     "shell.execute_reply": "2022-05-28T02:47:07.433984Z"
    },
    "papermill": {
     "duration": 3.176643,
     "end_time": "2022-05-28T02:47:07.437214",
     "exception": false,
     "start_time": "2022-05-28T02:47:04.260571",
     "status": "completed"
    },
    "tags": []
   },
   "outputs": [
    {
     "name": "stdout",
     "output_type": "stream",
     "text": [
      "Found 1300 validated image filenames.\n"
     ]
    }
   ],
   "source": [
    "test_datagen = ImageDataGenerator(rescale = 1/255.0)\n",
    "\n",
    "test_generator = test_datagen.flow_from_dataframe(test_df, \n",
    "                                                  directory=TEST_DIR,\n",
    "                                                  x_col='image_name',\n",
    "                                                  target_size=(IMG_HEIGHT, IMG_WIDTH),\n",
    "                                                  y_col=None,\n",
    "                                                  batch_size=1,\n",
    "                                                  class_mode=None,\n",
    "                                                  shuffle=False)"
   ]
  },
  {
   "cell_type": "code",
   "execution_count": 26,
   "id": "8dbe8db9",
   "metadata": {
    "execution": {
     "iopub.execute_input": "2022-05-28T02:47:11.670250Z",
     "iopub.status.busy": "2022-05-28T02:47:11.669957Z",
     "iopub.status.idle": "2022-05-28T02:47:27.423186Z",
     "shell.execute_reply": "2022-05-28T02:47:27.422527Z"
    },
    "papermill": {
     "duration": 17.865346,
     "end_time": "2022-05-28T02:47:27.424961",
     "exception": false,
     "start_time": "2022-05-28T02:47:09.559615",
     "status": "completed"
    },
    "tags": []
   },
   "outputs": [
    {
     "data": {
      "text/html": [
       "<div>\n",
       "<style scoped>\n",
       "    .dataframe tbody tr th:only-of-type {\n",
       "        vertical-align: middle;\n",
       "    }\n",
       "\n",
       "    .dataframe tbody tr th {\n",
       "        vertical-align: top;\n",
       "    }\n",
       "\n",
       "    .dataframe thead th {\n",
       "        text-align: right;\n",
       "    }\n",
       "</style>\n",
       "<table border=\"1\" class=\"dataframe\">\n",
       "  <thead>\n",
       "    <tr style=\"text-align: right;\">\n",
       "      <th></th>\n",
       "      <th>image_name</th>\n",
       "      <th>label</th>\n",
       "    </tr>\n",
       "  </thead>\n",
       "  <tbody>\n",
       "    <tr>\n",
       "      <th>0</th>\n",
       "      <td>test_262.jpg</td>\n",
       "      <td>1</td>\n",
       "    </tr>\n",
       "    <tr>\n",
       "      <th>1</th>\n",
       "      <td>test_1259.jpg</td>\n",
       "      <td>0</td>\n",
       "    </tr>\n",
       "    <tr>\n",
       "      <th>2</th>\n",
       "      <td>test_422.jpg</td>\n",
       "      <td>5</td>\n",
       "    </tr>\n",
       "    <tr>\n",
       "      <th>3</th>\n",
       "      <td>test_636.jpg</td>\n",
       "      <td>2</td>\n",
       "    </tr>\n",
       "    <tr>\n",
       "      <th>4</th>\n",
       "      <td>test_828.jpg</td>\n",
       "      <td>5</td>\n",
       "    </tr>\n",
       "  </tbody>\n",
       "</table>\n",
       "</div>"
      ],
      "text/plain": [
       "      image_name  label\n",
       "0   test_262.jpg      1\n",
       "1  test_1259.jpg      0\n",
       "2   test_422.jpg      5\n",
       "3   test_636.jpg      2\n",
       "4   test_828.jpg      5"
      ]
     },
     "execution_count": 26,
     "metadata": {},
     "output_type": "execute_result"
    }
   ],
   "source": [
    "import numpy as np\n",
    "\n",
    "pred_array = model.predict(test_generator, steps=np.ceil(n_test_samples/1.0))\n",
    "predictions = np.argmax(pred_array, axis=1)\n",
    "test_df['label'] = predictions\n",
    "test_df.head()"
   ]
  },
  {
   "cell_type": "markdown",
   "id": "0ac0935c",
   "metadata": {
    "papermill": {
     "duration": 2.079901,
     "end_time": "2022-05-28T02:47:31.586602",
     "exception": false,
     "start_time": "2022-05-28T02:47:29.506701",
     "status": "completed"
    },
    "tags": []
   },
   "source": [
    "## Step 6: Model Saving"
   ]
  },
  {
   "cell_type": "code",
   "execution_count": 27,
   "id": "c028e936",
   "metadata": {
    "execution": {
     "iopub.execute_input": "2022-05-28T02:47:35.972448Z",
     "iopub.status.busy": "2022-05-28T02:47:35.972089Z",
     "iopub.status.idle": "2022-05-28T02:47:36.523165Z",
     "shell.execute_reply": "2022-05-28T02:47:36.522394Z"
    },
    "papermill": {
     "duration": 2.655625,
     "end_time": "2022-05-28T02:47:36.525585",
     "exception": false,
     "start_time": "2022-05-28T02:47:33.869960",
     "status": "completed"
    },
    "tags": []
   },
   "outputs": [],
   "source": [
    "model.save('vgg16-model.h5')"
   ]
  },
  {
   "cell_type": "markdown",
   "id": "ed669d43",
   "metadata": {
    "papermill": {
     "duration": 2.107748,
     "end_time": "2022-05-28T02:47:40.931860",
     "exception": false,
     "start_time": "2022-05-28T02:47:38.824112",
     "status": "completed"
    },
    "tags": []
   },
   "source": [
    "## Step 7: Submission File Creation"
   ]
  },
  {
   "cell_type": "code",
   "execution_count": 28,
   "id": "97e46baf",
   "metadata": {
    "execution": {
     "iopub.execute_input": "2022-05-28T02:47:45.239491Z",
     "iopub.status.busy": "2022-05-28T02:47:45.239223Z",
     "iopub.status.idle": "2022-05-28T02:47:45.249255Z",
     "shell.execute_reply": "2022-05-28T02:47:45.248405Z"
    },
    "papermill": {
     "duration": 2.151446,
     "end_time": "2022-05-28T02:47:45.251658",
     "exception": false,
     "start_time": "2022-05-28T02:47:43.100212",
     "status": "completed"
    },
    "tags": []
   },
   "outputs": [
    {
     "name": "stdout",
     "output_type": "stream",
     "text": [
      "[START]: File Creation...\n",
      "[END]: File Creation!\n"
     ]
    }
   ],
   "source": [
    "print(\"[START]: File Creation...\")\n",
    "test_df.to_csv(r'./submission_3.csv', index=False)\n",
    "print(\"[END]: File Creation!\")"
   ]
  }
 ],
 "metadata": {
  "kernelspec": {
   "display_name": "Python 3",
   "language": "python",
   "name": "python3"
  },
  "language_info": {
   "codemirror_mode": {
    "name": "ipython",
    "version": 3
   },
   "file_extension": ".py",
   "mimetype": "text/x-python",
   "name": "python",
   "nbconvert_exporter": "python",
   "pygments_lexer": "ipython3",
   "version": "3.7.12"
  },
  "papermill": {
   "default_parameters": {},
   "duration": 1957.530316,
   "end_time": "2022-05-28T02:47:50.252830",
   "environment_variables": {},
   "exception": null,
   "input_path": "__notebook__.ipynb",
   "output_path": "__notebook__.ipynb",
   "parameters": {},
   "start_time": "2022-05-28T02:15:12.722514",
   "version": "2.3.4"
  }
 },
 "nbformat": 4,
 "nbformat_minor": 5
}
