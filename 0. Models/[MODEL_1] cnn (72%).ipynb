{
 "cells": [
  {
   "cell_type": "markdown",
   "id": "d2adf21c",
   "metadata": {
    "papermill": {
     "duration": 0.032332,
     "end_time": "2022-05-28T01:04:39.189725",
     "exception": false,
     "start_time": "2022-05-28T01:04:39.157393",
     "status": "completed"
    },
    "tags": []
   },
   "source": [
    "## Step 0: Load Data From Kaggle Competition using the API"
   ]
  },
  {
   "cell_type": "code",
   "execution_count": 1,
   "id": "222b73b7",
   "metadata": {
    "execution": {
     "iopub.execute_input": "2022-05-28T01:04:39.256347Z",
     "iopub.status.busy": "2022-05-28T01:04:39.255396Z",
     "iopub.status.idle": "2022-05-28T01:04:39.265997Z",
     "shell.execute_reply": "2022-05-28T01:04:39.265397Z"
    },
    "papermill": {
     "duration": 0.0439,
     "end_time": "2022-05-28T01:04:39.267711",
     "exception": false,
     "start_time": "2022-05-28T01:04:39.223811",
     "status": "completed"
    },
    "tags": []
   },
   "outputs": [],
   "source": [
    "import os\n",
    "os.environ['KAGGLE_USERNAME'] = \"xxx\" # username from the json file\n",
    "os.environ['KAGGLE_KEY'] = \"xxxxxxx\" # key from the json file"
   ]
  },
  {
   "cell_type": "code",
   "execution_count": 2,
   "id": "c838bd08",
   "metadata": {
    "execution": {
     "iopub.execute_input": "2022-05-28T01:04:39.330472Z",
     "iopub.status.busy": "2022-05-28T01:04:39.329825Z",
     "iopub.status.idle": "2022-05-28T01:04:49.245729Z",
     "shell.execute_reply": "2022-05-28T01:04:49.244714Z"
    },
    "papermill": {
     "duration": 9.949896,
     "end_time": "2022-05-28T01:04:49.248412",
     "exception": false,
     "start_time": "2022-05-28T01:04:39.298516",
     "status": "completed"
    },
    "tags": []
   },
   "outputs": [
    {
     "name": "stdout",
     "output_type": "stream",
     "text": [
      "Downloading nn22-weather-analysis-using-image-recognition.zip to /kaggle/working\r\n",
      " 99%|███████████████████████████████████████▍| 578M/586M [00:07<00:00, 59.2MB/s]\r\n",
      "100%|████████████████████████████████████████| 586M/586M [00:07<00:00, 85.0MB/s]\r\n"
     ]
    }
   ],
   "source": [
    "!kaggle competitions download -c nn22-weather-analysis-using-image-recognition"
   ]
  },
  {
   "cell_type": "code",
   "execution_count": 3,
   "id": "6c8a75f7",
   "metadata": {
    "execution": {
     "iopub.execute_input": "2022-05-28T01:04:49.413512Z",
     "iopub.status.busy": "2022-05-28T01:04:49.413181Z",
     "iopub.status.idle": "2022-05-28T01:04:54.801841Z",
     "shell.execute_reply": "2022-05-28T01:04:54.800036Z"
    },
    "papermill": {
     "duration": 5.470954,
     "end_time": "2022-05-28T01:04:54.804278",
     "exception": false,
     "start_time": "2022-05-28T01:04:49.333324",
     "status": "completed"
    },
    "tags": []
   },
   "outputs": [
    {
     "name": "stdout",
     "output_type": "stream",
     "text": [
      "done unzipping\n"
     ]
    }
   ],
   "source": [
    "# Unzipping data\n",
    "from zipfile import ZipFile\n",
    "file_name = \"./nn22-weather-analysis-using-image-recognition.zip\"\n",
    "\n",
    "with ZipFile(file_name, 'r') as zip:\n",
    "  zip.extractall()\n",
    "  print('done unzipping')"
   ]
  },
  {
   "cell_type": "markdown",
   "id": "5c8a8dda",
   "metadata": {
    "papermill": {
     "duration": 1.716854,
     "end_time": "2022-05-28T01:04:56.572599",
     "exception": false,
     "start_time": "2022-05-28T01:04:54.855745",
     "status": "completed"
    },
    "tags": []
   },
   "source": [
    "## Step 1: Explore Data"
   ]
  },
  {
   "cell_type": "code",
   "execution_count": 4,
   "id": "176a6c39",
   "metadata": {
    "execution": {
     "iopub.execute_input": "2022-05-28T01:04:56.664471Z",
     "iopub.status.busy": "2022-05-28T01:04:56.664189Z",
     "iopub.status.idle": "2022-05-28T01:04:56.673906Z",
     "shell.execute_reply": "2022-05-28T01:04:56.672668Z"
    },
    "papermill": {
     "duration": 0.057352,
     "end_time": "2022-05-28T01:04:56.675654",
     "exception": false,
     "start_time": "2022-05-28T01:04:56.618302",
     "status": "completed"
    },
    "tags": []
   },
   "outputs": [
    {
     "name": "stdout",
     "output_type": "stream",
     "text": [
      "Train Directory Content:  ['lightning', 'rime', 'dew', 'frost', 'rain', 'snow', 'rainbow', 'glaze', 'hail', 'fogsmog', 'sandstorm']\n",
      "Test Directory # of files:  1300\n"
     ]
    }
   ],
   "source": [
    "import warnings\n",
    "warnings.filterwarnings('ignore')\n",
    "\n",
    "class_labels = ['rainbow', 'rain', 'hail', 'lightning', 'fogsmog', 'snow', 'glaze', 'rime', 'frost', 'sandstorm', 'dew']\n",
    "\n",
    "# Displaying Train Content\n",
    "data_dir_list = os.listdir('./Dataset/Train')\n",
    "print(\"Train Directory Content: \", data_dir_list)\n",
    "\n",
    "# Displaying Test files\n",
    "path, dirs, files = next(os.walk(\"./Dataset/Test\"))\n",
    "file_count = len(files)\n",
    "print(\"Test Directory # of files: \", file_count)"
   ]
  },
  {
   "cell_type": "markdown",
   "id": "91c891aa",
   "metadata": {
    "papermill": {
     "duration": 0.046734,
     "end_time": "2022-05-28T01:04:56.771504",
     "exception": false,
     "start_time": "2022-05-28T01:04:56.724770",
     "status": "completed"
    },
    "tags": []
   },
   "source": [
    "## Step 2: Train-Valid Split"
   ]
  },
  {
   "cell_type": "markdown",
   "id": "154e30aa",
   "metadata": {
    "papermill": {
     "duration": 0.046463,
     "end_time": "2022-05-28T01:04:56.865381",
     "exception": false,
     "start_time": "2022-05-28T01:04:56.818918",
     "status": "completed"
    },
    "tags": []
   },
   "source": [
    "### Step 2.1: Establishing Working Directories"
   ]
  },
  {
   "cell_type": "code",
   "execution_count": 5,
   "id": "121b9dca",
   "metadata": {
    "execution": {
     "iopub.execute_input": "2022-05-28T01:04:56.960126Z",
     "iopub.status.busy": "2022-05-28T01:04:56.959870Z",
     "iopub.status.idle": "2022-05-28T01:04:56.963542Z",
     "shell.execute_reply": "2022-05-28T01:04:56.962852Z"
    },
    "papermill": {
     "duration": 0.052922,
     "end_time": "2022-05-28T01:04:56.965216",
     "exception": false,
     "start_time": "2022-05-28T01:04:56.912294",
     "status": "completed"
    },
    "tags": []
   },
   "outputs": [],
   "source": [
    "# making base directory for train-valid splitting\n",
    "base_dir = './Dataset/weather-data'\n",
    "os.mkdir(base_dir)"
   ]
  },
  {
   "cell_type": "code",
   "execution_count": 6,
   "id": "6d376b99",
   "metadata": {
    "execution": {
     "iopub.execute_input": "2022-05-28T01:04:57.058552Z",
     "iopub.status.busy": "2022-05-28T01:04:57.057771Z",
     "iopub.status.idle": "2022-05-28T01:04:57.073587Z",
     "shell.execute_reply": "2022-05-28T01:04:57.072911Z"
    },
    "papermill": {
     "duration": 0.064119,
     "end_time": "2022-05-28T01:04:57.075302",
     "exception": false,
     "start_time": "2022-05-28T01:04:57.011183",
     "status": "completed"
    },
    "tags": []
   },
   "outputs": [],
   "source": [
    "# creating two folders (train and valid)\n",
    "train_dir = os.path.join(base_dir, 'train')\n",
    "os.mkdir(train_dir)\n",
    "\n",
    "valid_dir = os.path.join(base_dir, 'valid')\n",
    "os.mkdir(valid_dir)\n",
    "\n",
    "# creating eleven directories inside 'train' directory \n",
    "# ('rainbow', 'rain', 'hail', 'lightning', 'fogsmog', 'snow', 'glaze', 'rime', 'frost', 'sandstorm', 'dew')\n",
    "#0\n",
    "train_rainbow_dir = os.path.join(train_dir, 'rainbow')\n",
    "os.mkdir(train_rainbow_dir)\n",
    "#1\n",
    "train_rain_dir = os.path.join(train_dir, 'rain')\n",
    "os.mkdir(train_rain_dir)\n",
    "#2\n",
    "train_hail_dir = os.path.join(train_dir, 'hail')\n",
    "os.mkdir(train_hail_dir)\n",
    "#3\n",
    "train_lightning_dir = os.path.join(train_dir, 'lightning')\n",
    "os.mkdir(train_lightning_dir)\n",
    "#4\n",
    "train_fogsmog_dir = os.path.join(train_dir, 'fogsmog')\n",
    "os.mkdir(train_fogsmog_dir)\n",
    "#5\n",
    "train_snow_dir = os.path.join(train_dir, 'snow')\n",
    "os.mkdir(train_snow_dir)\n",
    "#6\n",
    "train_glaze_dir = os.path.join(train_dir, 'glaze')\n",
    "os.mkdir(train_glaze_dir)\n",
    "#7\n",
    "train_rime_dir = os.path.join(train_dir, 'rime')\n",
    "os.mkdir(train_rime_dir)\n",
    "#8\n",
    "train_frost_dir = os.path.join(train_dir, 'frost')\n",
    "os.mkdir(train_frost_dir)\n",
    "#9\n",
    "train_sandstorm_dir = os.path.join(train_dir, 'sandstorm')\n",
    "os.mkdir(train_sandstorm_dir)\n",
    "#10\n",
    "train_dew_dir = os.path.join(train_dir, 'dew')\n",
    "os.mkdir(train_dew_dir)\n",
    "\n",
    "# creating eleven directories inside 'valid' directory \n",
    "# ('rainbow', 'rain', 'hail', 'lightning', 'fogsmog', 'snow', 'glaze', 'rime', 'frost', 'sandstorm', 'dew')\n",
    "#0\n",
    "valid_rainbow_dir = os.path.join(valid_dir, 'rainbow')\n",
    "os.mkdir(valid_rainbow_dir)\n",
    "#1\n",
    "valid_rain_dir = os.path.join(valid_dir, 'rain')\n",
    "os.mkdir(valid_rain_dir)\n",
    "#2\n",
    "valid_hail_dir = os.path.join(valid_dir, 'hail')\n",
    "os.mkdir(valid_hail_dir)\n",
    "#3\n",
    "valid_lightning_dir = os.path.join(valid_dir, 'lightning')\n",
    "os.mkdir(valid_lightning_dir)\n",
    "#4\n",
    "valid_fogsmog_dir = os.path.join(valid_dir, 'fogsmog')\n",
    "os.mkdir(valid_fogsmog_dir)\n",
    "#5\n",
    "valid_snow_dir = os.path.join(valid_dir, 'snow')\n",
    "os.mkdir(valid_snow_dir)\n",
    "#6\n",
    "valid_glaze_dir = os.path.join(valid_dir, 'glaze')\n",
    "os.mkdir(valid_glaze_dir)\n",
    "#7\n",
    "valid_rime_dir = os.path.join(valid_dir, 'rime')\n",
    "os.mkdir(valid_rime_dir)\n",
    "#8\n",
    "valid_frost_dir = os.path.join(valid_dir, 'frost')\n",
    "os.mkdir(valid_frost_dir)\n",
    "#9\n",
    "valid_sandstorm_dir = os.path.join(valid_dir, 'sandstorm')\n",
    "os.mkdir(valid_sandstorm_dir)\n",
    "#10\n",
    "valid_dew_dir = os.path.join(valid_dir, 'dew')\n",
    "os.mkdir(valid_dew_dir)"
   ]
  },
  {
   "cell_type": "code",
   "execution_count": 7,
   "id": "284f1b5d",
   "metadata": {
    "execution": {
     "iopub.execute_input": "2022-05-28T01:04:57.167881Z",
     "iopub.status.busy": "2022-05-28T01:04:57.167205Z",
     "iopub.status.idle": "2022-05-28T01:04:57.175709Z",
     "shell.execute_reply": "2022-05-28T01:04:57.175036Z"
    },
    "papermill": {
     "duration": 0.056664,
     "end_time": "2022-05-28T01:04:57.177485",
     "exception": false,
     "start_time": "2022-05-28T01:04:57.120821",
     "status": "completed"
    },
    "tags": []
   },
   "outputs": [],
   "source": [
    "import random\n",
    "from shutil import copyfile\n",
    "\n",
    "def train_valid_split(src_dir, train_dir, valid_dir, split_size):\n",
    "    files = []\n",
    "    for filename in os.listdir(src_dir):\n",
    "        file = os.path.join(src_dir, filename)\n",
    "        if os.path.getsize(file) > 0:\n",
    "            files.append(filename)\n",
    "        else:\n",
    "            print(filename + \"is ignored as it cannot be fetched!!\")\n",
    "\n",
    "    # shuffling train data and splitting into train and valid sets\n",
    "    train_size = int(len(files) * split_size)\n",
    "    valid_size = int(len(files) - train_size)\n",
    "    shuffled_set = random.sample(files, len(files))\n",
    "    train_set = shuffled_set[0:train_size]\n",
    "    valid_set = shuffled_set[train_size:]\n",
    "    \n",
    "    # copying train set files from source to destination \n",
    "    for filename in train_set:\n",
    "        curr_file = os.path.join(src_dir, filename)\n",
    "        move_dest = os.path.join(train_dir, filename)\n",
    "        copyfile(curr_file, move_dest)\n",
    "    \n",
    "    # copying valid set files from source to destination \n",
    "    for filename in valid_set:\n",
    "        curr_file = os.path.join(src_dir, filename)\n",
    "        move_dest = os.path.join(valid_dir, filename)\n",
    "        copyfile(curr_file, move_dest)"
   ]
  },
  {
   "cell_type": "code",
   "execution_count": 8,
   "id": "fce98a8d",
   "metadata": {
    "execution": {
     "iopub.execute_input": "2022-05-28T01:04:57.269962Z",
     "iopub.status.busy": "2022-05-28T01:04:57.269542Z",
     "iopub.status.idle": "2022-05-28T01:04:57.282548Z",
     "shell.execute_reply": "2022-05-28T01:04:57.281775Z"
    },
    "papermill": {
     "duration": 0.060434,
     "end_time": "2022-05-28T01:04:57.284343",
     "exception": false,
     "start_time": "2022-05-28T01:04:57.223909",
     "status": "completed"
    },
    "tags": []
   },
   "outputs": [],
   "source": [
    "import os\n",
    "\n",
    "TRAIN_SRC_DIR = './Dataset/Train'\n",
    "TRAIN_DIR = './Dataset/weather-data/train/'\n",
    "VALID_DIR = './Dataset/weather-data/valid/'\n",
    "\n",
    "#0\n",
    "DEW_SOURCE_DIR = os.path.join(TRAIN_SRC_DIR, 'dew')\n",
    "DEW_TRAIN_DIR = os.path.join(TRAIN_DIR, 'dew')\n",
    "DEW_VALID_DIR = os.path.join(VALID_DIR, 'dew')\n",
    "\n",
    "#1\n",
    "FOGSMOG_SOURCE_DIR = os.path.join(TRAIN_SRC_DIR, 'fogsmog')\n",
    "FOGSMOG_TRAIN_DIR = os.path.join(TRAIN_DIR, 'fogsmog')\n",
    "FOGSMOG_VALID_DIR = os.path.join(VALID_DIR, 'fogsmog')\n",
    "\n",
    "#2\n",
    "FROST_SOURCE_DIR = os.path.join(TRAIN_SRC_DIR, 'frost')\n",
    "FROST_TRAIN_DIR = os.path.join(TRAIN_DIR, 'frost')\n",
    "FROST_VALID_DIR = os.path.join(VALID_DIR, 'frost')\n",
    "\n",
    "#3\n",
    "GLAZE_SOURCE_DIR = os.path.join(TRAIN_SRC_DIR, 'glaze')\n",
    "GLAZE_TRAIN_DIR = os.path.join(TRAIN_DIR, 'glaze')\n",
    "GLAZE_VALID_DIR = os.path.join(VALID_DIR, 'glaze')\n",
    "\n",
    "#4\n",
    "HAIL_SOURCE_DIR = os.path.join(TRAIN_SRC_DIR, 'hail')\n",
    "HAIL_TRAIN_DIR = os.path.join(TRAIN_DIR, 'hail')\n",
    "HAIL_VALID_DIR = os.path.join(VALID_DIR, 'hail')\n",
    "\n",
    "#5\n",
    "LIGHTNING_SOURCE_DIR = os.path.join(TRAIN_SRC_DIR, 'lightning')\n",
    "LIGHTNING_TRAIN_DIR = os.path.join(TRAIN_DIR, 'lightning')\n",
    "LIGHTNING_VALID_DIR = os.path.join(VALID_DIR, 'lightning')\n",
    "\n",
    "#6\n",
    "RAIN_SOURCE_DIR = os.path.join(TRAIN_SRC_DIR, 'rain')\n",
    "RAIN_TRAIN_DIR = os.path.join(TRAIN_DIR, 'rain')\n",
    "RAIN_VALID_DIR = os.path.join(VALID_DIR, 'rain')\n",
    "\n",
    "#7\n",
    "RAINBOW_SOURCE_DIR = os.path.join(TRAIN_SRC_DIR, 'rainbow')\n",
    "RAINBOW_TRAIN_DIR = os.path.join(TRAIN_DIR, 'rainbow')\n",
    "RAINBOW_VALID_DIR = os.path.join(VALID_DIR, 'rainbow')\n",
    "\n",
    "#8\n",
    "RIME_SOURCE_DIR = os.path.join(TRAIN_SRC_DIR, 'rime')\n",
    "RIME_TRAIN_DIR = os.path.join(TRAIN_DIR, 'rime')\n",
    "RIME_VALID_DIR = os.path.join(VALID_DIR, 'rime')\n",
    "\n",
    "#9\n",
    "SANDSTORM_SOURCE_DIR = os.path.join(TRAIN_SRC_DIR, 'sandstorm')\n",
    "SANDSTORM_TRAIN_DIR = os.path.join(TRAIN_DIR, 'sandstorm')\n",
    "SANDSTORM_VALID_DIR = os.path.join(VALID_DIR, 'sandstorm')\n",
    "\n",
    "#10\n",
    "SNOW_SOURCE_DIR = os.path.join(TRAIN_SRC_DIR, 'snow')\n",
    "SNOW_TRAIN_DIR = os.path.join(TRAIN_DIR, 'snow')\n",
    "SNOW_VALID_DIR = os.path.join(VALID_DIR, 'snow')"
   ]
  },
  {
   "cell_type": "code",
   "execution_count": 9,
   "id": "c9e64d82",
   "metadata": {
    "execution": {
     "iopub.execute_input": "2022-05-28T01:04:57.376670Z",
     "iopub.status.busy": "2022-05-28T01:04:57.375908Z",
     "iopub.status.idle": "2022-05-28T01:04:58.352176Z",
     "shell.execute_reply": "2022-05-28T01:04:58.351429Z"
    },
    "papermill": {
     "duration": 1.024941,
     "end_time": "2022-05-28T01:04:58.354287",
     "exception": false,
     "start_time": "2022-05-28T01:04:57.329346",
     "status": "completed"
    },
    "tags": []
   },
   "outputs": [],
   "source": [
    "split_portion = .90\n",
    "\n",
    "# splitting each class into train-validation sets\n",
    "train_valid_split(DEW_SOURCE_DIR, DEW_TRAIN_DIR, DEW_VALID_DIR, split_portion)\n",
    "train_valid_split(FOGSMOG_SOURCE_DIR, FOGSMOG_TRAIN_DIR, FOGSMOG_VALID_DIR, split_portion)\n",
    "train_valid_split(FROST_SOURCE_DIR, FROST_TRAIN_DIR, FROST_VALID_DIR, split_portion)\n",
    "train_valid_split(GLAZE_SOURCE_DIR, GLAZE_TRAIN_DIR, GLAZE_VALID_DIR, split_portion)\n",
    "train_valid_split(HAIL_SOURCE_DIR, HAIL_TRAIN_DIR, HAIL_VALID_DIR, split_portion)\n",
    "train_valid_split(LIGHTNING_SOURCE_DIR, LIGHTNING_TRAIN_DIR, LIGHTNING_VALID_DIR, split_portion)\n",
    "train_valid_split(RAIN_SOURCE_DIR, RAIN_TRAIN_DIR, RAIN_VALID_DIR, split_portion)\n",
    "train_valid_split(RAINBOW_SOURCE_DIR, RAINBOW_TRAIN_DIR, RAINBOW_VALID_DIR, split_portion)\n",
    "train_valid_split(RIME_SOURCE_DIR, RIME_TRAIN_DIR, RIME_VALID_DIR, split_portion)\n",
    "train_valid_split(SANDSTORM_SOURCE_DIR, SANDSTORM_TRAIN_DIR, SANDSTORM_VALID_DIR, split_portion)\n",
    "train_valid_split(SNOW_SOURCE_DIR, SNOW_TRAIN_DIR, SNOW_VALID_DIR, split_portion)"
   ]
  },
  {
   "cell_type": "markdown",
   "id": "02107288",
   "metadata": {
    "papermill": {
     "duration": 0.044554,
     "end_time": "2022-05-28T01:04:58.444458",
     "exception": false,
     "start_time": "2022-05-28T01:04:58.399904",
     "status": "completed"
    },
    "tags": []
   },
   "source": [
    "## Step 2.2: Train-Valid Analysis"
   ]
  },
  {
   "cell_type": "code",
   "execution_count": 10,
   "id": "9965ae0c",
   "metadata": {
    "execution": {
     "iopub.execute_input": "2022-05-28T01:04:58.536829Z",
     "iopub.status.busy": "2022-05-28T01:04:58.536583Z",
     "iopub.status.idle": "2022-05-28T01:04:59.576317Z",
     "shell.execute_reply": "2022-05-28T01:04:59.575598Z"
    },
    "papermill": {
     "duration": 1.088757,
     "end_time": "2022-05-28T01:04:59.578423",
     "exception": false,
     "start_time": "2022-05-28T01:04:58.489666",
     "status": "completed"
    },
    "tags": []
   },
   "outputs": [],
   "source": [
    "import matplotlib.pyplot as plt\n",
    "import seaborn as sns\n",
    "from matplotlib.image import imread\n",
    "import pathlib\n",
    "\n",
    "class_labels = ['rainbow', 'rain', 'hail', 'lightning', 'fogsmog', 'snow', 'glaze', 'rime', 'frost', 'sandstorm', 'dew']\n",
    "def plot_classes_distributions(dir_path, plot_title):\n",
    "    class_imgs_num = {}\n",
    "    for lbl in class_labels:\n",
    "        class_imgs_num[lbl] = len(os.listdir(dir_path+lbl+'/'))\n",
    "\n",
    "    plt.figure(figsize=(9, 6))\n",
    "    plt.bar(range(len(class_imgs_num)), list(class_imgs_num.values()), align='center')\n",
    "    plt.xticks(range(len(class_imgs_num)), list(class_imgs_num.keys()))\n",
    "    plt.title(plot_title)\n",
    "    plt.show()"
   ]
  },
  {
   "cell_type": "code",
   "execution_count": 11,
   "id": "c53bd068",
   "metadata": {
    "execution": {
     "iopub.execute_input": "2022-05-28T01:04:59.677826Z",
     "iopub.status.busy": "2022-05-28T01:04:59.677564Z",
     "iopub.status.idle": "2022-05-28T01:04:59.922298Z",
     "shell.execute_reply": "2022-05-28T01:04:59.921601Z"
    },
    "papermill": {
     "duration": 0.300223,
     "end_time": "2022-05-28T01:04:59.925208",
     "exception": false,
     "start_time": "2022-05-28T01:04:59.624985",
     "status": "completed"
    },
    "tags": []
   },
   "outputs": [
    {
     "data": {
      "image/png": "[encoded data removed]",
      "text/plain": [
       "<Figure size 648x432 with 1 Axes>"
      ]
     },
     "metadata": {
      "needs_background": "light"
     },
     "output_type": "display_data"
    }
   ],
   "source": [
    "plot_classes_distributions(TRAIN_DIR, 'Distribution of all classes in the Train Set')"
   ]
  },
  {
   "cell_type": "code",
   "execution_count": 12,
   "id": "db121800",
   "metadata": {
    "execution": {
     "iopub.execute_input": "2022-05-28T01:05:01.047247Z",
     "iopub.status.busy": "2022-05-28T01:05:01.046776Z",
     "iopub.status.idle": "2022-05-28T01:05:01.236477Z",
     "shell.execute_reply": "2022-05-28T01:05:01.235815Z"
    },
    "papermill": {
     "duration": 0.240509,
     "end_time": "2022-05-28T01:05:01.238338",
     "exception": false,
     "start_time": "2022-05-28T01:05:00.997829",
     "status": "completed"
    },
    "tags": []
   },
   "outputs": [
    {
     "data": {
      "image/png": "[encoded data removed]",
      "text/plain": [
       "<Figure size 648x432 with 1 Axes>"
      ]
     },
     "metadata": {
      "needs_background": "light"
     },
     "output_type": "display_data"
    }
   ],
   "source": [
    "plot_classes_distributions(VALID_DIR, 'Distribution of all classes in the Valid Set')"
   ]
  },
  {
   "cell_type": "code",
   "execution_count": 13,
   "id": "fee0e74f",
   "metadata": {
    "execution": {
     "iopub.execute_input": "2022-05-28T01:05:01.332607Z",
     "iopub.status.busy": "2022-05-28T01:05:01.332337Z",
     "iopub.status.idle": "2022-05-28T01:05:01.346746Z",
     "shell.execute_reply": "2022-05-28T01:05:01.345810Z"
    },
    "papermill": {
     "duration": 0.063615,
     "end_time": "2022-05-28T01:05:01.348499",
     "exception": false,
     "start_time": "2022-05-28T01:05:01.284884",
     "status": "completed"
    },
    "tags": []
   },
   "outputs": [
    {
     "name": "stdout",
     "output_type": "stream",
     "text": [
      "# of Train rainbow images are: 117\n",
      "# of Train rain images are: 346\n",
      "# of Train hail images are: 405\n",
      "# of Train lightning images are: 248\n",
      "# of Train fogsmog images are: 675\n",
      "# of Train snow images are: 468\n",
      "# of Train glaze images are: 484\n",
      "# of Train rime images are: 953\n",
      "# of Train frost images are: 300\n",
      "# of Train sandstorm images are: 495\n",
      "# of Train dew images are: 501\n",
      "========================================\n",
      "# of Valid rainbow images are: 14\n",
      "# of Valid rain images are: 39\n",
      "# of Valid hail images are: 45\n",
      "# of Valid lightning images are: 28\n",
      "# of Valid fogsmog images are: 75\n",
      "# of Valid snow images are: 52\n",
      "# of Valid glaze images are: 54\n",
      "# of Valid rime images are: 106\n",
      "# of Valid frost images are: 34\n",
      "# of Valid sandstorm images are: 56\n",
      "# of Valid dew images are: 56\n"
     ]
    }
   ],
   "source": [
    "for lbl in class_labels:\n",
    "    print('# of Train {} images are: '.format(lbl) + str(len(os.listdir(TRAIN_DIR + lbl +'/'))))\n",
    "    \n",
    "print('========================================')\n",
    "\n",
    "for lbl in class_labels:\n",
    "    print('# of Valid {} images are: '.format(lbl) + str(len(os.listdir(VALID_DIR + lbl +'/'))))"
   ]
  },
  {
   "cell_type": "markdown",
   "id": "9042d770",
   "metadata": {
    "papermill": {
     "duration": 0.04641,
     "end_time": "2022-05-28T01:05:01.442188",
     "exception": false,
     "start_time": "2022-05-28T01:05:01.395778",
     "status": "completed"
    },
    "tags": []
   },
   "source": [
    "## Step 3: Deep Learning with Data Augmentation"
   ]
  },
  {
   "cell_type": "markdown",
   "id": "600a582b",
   "metadata": {
    "papermill": {
     "duration": 0.046853,
     "end_time": "2022-05-28T01:05:01.535962",
     "exception": false,
     "start_time": "2022-05-28T01:05:01.489109",
     "status": "completed"
    },
    "tags": []
   },
   "source": [
    "### Step 3.1: Image Data Generator"
   ]
  },
  {
   "cell_type": "code",
   "execution_count": 14,
   "id": "22d72d83",
   "metadata": {
    "execution": {
     "iopub.execute_input": "2022-05-28T01:05:01.630124Z",
     "iopub.status.busy": "2022-05-28T01:05:01.629862Z",
     "iopub.status.idle": "2022-05-28T01:05:07.703731Z",
     "shell.execute_reply": "2022-05-28T01:05:07.702762Z"
    },
    "papermill": {
     "duration": 6.123313,
     "end_time": "2022-05-28T01:05:07.705801",
     "exception": false,
     "start_time": "2022-05-28T01:05:01.582488",
     "status": "completed"
    },
    "tags": []
   },
   "outputs": [
    {
     "name": "stdout",
     "output_type": "stream",
     "text": [
      "Found 4992 images belonging to 11 classes.\n"
     ]
    }
   ],
   "source": [
    "IMG_WIDTH = 224\n",
    "IMG_HEIGHT = 224\n",
    "BATCH_SIZE = 16\n",
    "\n",
    "from tensorflow.keras.preprocessing.image import ImageDataGenerator\n",
    "train_datagen = ImageDataGenerator(rescale = 1/255.0,\n",
    "                                   rotation_range=30,\n",
    "                                   zoom_range=0.4,\n",
    "                                   width_shift_range=0.2,\n",
    "                                   height_shift_range=0.2,\n",
    "                                   shear_range=0.15,\n",
    "                                   horizontal_flip=True)\n",
    "\n",
    "train_generator = train_datagen.flow_from_directory(TRAIN_DIR,\n",
    "                                                    batch_size=BATCH_SIZE,\n",
    "                                                    class_mode='categorical',\n",
    "                                                    target_size=(IMG_HEIGHT, IMG_WIDTH))"
   ]
  },
  {
   "cell_type": "code",
   "execution_count": 15,
   "id": "5f1662e6",
   "metadata": {
    "execution": {
     "iopub.execute_input": "2022-05-28T01:05:07.810277Z",
     "iopub.status.busy": "2022-05-28T01:05:07.810043Z",
     "iopub.status.idle": "2022-05-28T01:05:07.917828Z",
     "shell.execute_reply": "2022-05-28T01:05:07.916967Z"
    },
    "papermill": {
     "duration": 0.165599,
     "end_time": "2022-05-28T01:05:07.920201",
     "exception": false,
     "start_time": "2022-05-28T01:05:07.754602",
     "status": "completed"
    },
    "tags": []
   },
   "outputs": [
    {
     "name": "stdout",
     "output_type": "stream",
     "text": [
      "Found 559 images belonging to 11 classes.\n"
     ]
    }
   ],
   "source": [
    "valid_datagen = ImageDataGenerator(rescale = 1/255.0)\n",
    "\n",
    "valid_generator = valid_datagen.flow_from_directory(VALID_DIR,\n",
    "                                                    batch_size=BATCH_SIZE,\n",
    "                                                    class_mode='categorical',\n",
    "                                                    target_size=(IMG_HEIGHT, IMG_WIDTH))"
   ]
  },
  {
   "cell_type": "markdown",
   "id": "71aa6f2e",
   "metadata": {
    "papermill": {
     "duration": 0.054505,
     "end_time": "2022-05-28T01:05:08.028173",
     "exception": false,
     "start_time": "2022-05-28T01:05:07.973668",
     "status": "completed"
    },
    "tags": []
   },
   "source": [
    "### Step 3.2: Building The Mode"
   ]
  },
  {
   "cell_type": "code",
   "execution_count": 16,
   "id": "29a48349",
   "metadata": {
    "execution": {
     "iopub.execute_input": "2022-05-28T01:05:08.132895Z",
     "iopub.status.busy": "2022-05-28T01:05:08.132618Z",
     "iopub.status.idle": "2022-05-28T01:05:10.993364Z",
     "shell.execute_reply": "2022-05-28T01:05:10.992580Z"
    },
    "papermill": {
     "duration": 2.912356,
     "end_time": "2022-05-28T01:05:10.995653",
     "exception": false,
     "start_time": "2022-05-28T01:05:08.083297",
     "status": "completed"
    },
    "tags": []
   },
   "outputs": [
    {
     "name": "stderr",
     "output_type": "stream",
     "text": [
      "2022-05-28 01:05:08.241741: I tensorflow/stream_executor/cuda/cuda_gpu_executor.cc:937] successful NUMA node read from SysFS had negative value (-1), but there must be at least one NUMA node, so returning NUMA node zero\n"
     ]
    },
    {
     "name": "stdout",
     "output_type": "stream",
     "text": [
      "Model: \"CNN\"\n",
      "_________________________________________________________________\n",
      "Layer (type)                 Output Shape              Param #   \n",
      "=================================================================\n",
      "conv2d (Conv2D)              (None, 222, 222, 16)      448       \n",
      "_________________________________________________________________\n",
      "max_pooling2d (MaxPooling2D) (None, 111, 111, 16)      0         \n",
      "_________________________________________________________________\n",
      "conv2d_1 (Conv2D)            (None, 109, 109, 32)      4640      \n",
      "_________________________________________________________________\n",
      "max_pooling2d_1 (MaxPooling2 (None, 54, 54, 32)        0         \n",
      "_________________________________________________________________\n",
      "conv2d_2 (Conv2D)            (None, 52, 52, 64)        18496     \n",
      "_________________________________________________________________\n",
      "conv2d_3 (Conv2D)            (None, 50, 50, 64)        36928     \n",
      "_________________________________________________________________\n",
      "max_pooling2d_2 (MaxPooling2 (None, 25, 25, 64)        0         \n",
      "_________________________________________________________________\n",
      "conv2d_4 (Conv2D)            (None, 23, 23, 128)       73856     \n",
      "_________________________________________________________________\n",
      "conv2d_5 (Conv2D)            (None, 21, 21, 128)       147584    \n",
      "_________________________________________________________________\n",
      "max_pooling2d_3 (MaxPooling2 (None, 10, 10, 128)       0         \n",
      "_________________________________________________________________\n",
      "conv2d_6 (Conv2D)            (None, 8, 8, 256)         295168    \n",
      "_________________________________________________________________\n",
      "conv2d_7 (Conv2D)            (None, 6, 6, 256)         590080    \n",
      "_________________________________________________________________\n",
      "conv2d_8 (Conv2D)            (None, 4, 4, 256)         590080    \n",
      "_________________________________________________________________\n",
      "max_pooling2d_4 (MaxPooling2 (None, 2, 2, 256)         0         \n",
      "_________________________________________________________________\n",
      "flatten (Flatten)            (None, 1024)              0         \n",
      "_________________________________________________________________\n",
      "dense (Dense)                (None, 512)               524800    \n",
      "_________________________________________________________________\n",
      "dense_1 (Dense)              (None, 512)               262656    \n",
      "_________________________________________________________________\n",
      "dense_2 (Dense)              (None, 11)                5643      \n",
      "=================================================================\n",
      "Total params: 2,550,379\n",
      "Trainable params: 2,550,379\n",
      "Non-trainable params: 0\n",
      "_________________________________________________________________\n"
     ]
    },
    {
     "name": "stderr",
     "output_type": "stream",
     "text": [
      "2022-05-28 01:05:08.365467: I tensorflow/stream_executor/cuda/cuda_gpu_executor.cc:937] successful NUMA node read from SysFS had negative value (-1), but there must be at least one NUMA node, so returning NUMA node zero\n",
      "2022-05-28 01:05:08.366298: I tensorflow/stream_executor/cuda/cuda_gpu_executor.cc:937] successful NUMA node read from SysFS had negative value (-1), but there must be at least one NUMA node, so returning NUMA node zero\n",
      "2022-05-28 01:05:08.367516: I tensorflow/core/platform/cpu_feature_guard.cc:142] This TensorFlow binary is optimized with oneAPI Deep Neural Network Library (oneDNN) to use the following CPU instructions in performance-critical operations:  AVX2 AVX512F FMA\n",
      "To enable them in other operations, rebuild TensorFlow with the appropriate compiler flags.\n",
      "2022-05-28 01:05:08.367813: I tensorflow/stream_executor/cuda/cuda_gpu_executor.cc:937] successful NUMA node read from SysFS had negative value (-1), but there must be at least one NUMA node, so returning NUMA node zero\n",
      "2022-05-28 01:05:08.368594: I tensorflow/stream_executor/cuda/cuda_gpu_executor.cc:937] successful NUMA node read from SysFS had negative value (-1), but there must be at least one NUMA node, so returning NUMA node zero\n",
      "2022-05-28 01:05:08.369338: I tensorflow/stream_executor/cuda/cuda_gpu_executor.cc:937] successful NUMA node read from SysFS had negative value (-1), but there must be at least one NUMA node, so returning NUMA node zero\n",
      "2022-05-28 01:05:10.538236: I tensorflow/stream_executor/cuda/cuda_gpu_executor.cc:937] successful NUMA node read from SysFS had negative value (-1), but there must be at least one NUMA node, so returning NUMA node zero\n",
      "2022-05-28 01:05:10.539299: I tensorflow/stream_executor/cuda/cuda_gpu_executor.cc:937] successful NUMA node read from SysFS had negative value (-1), but there must be at least one NUMA node, so returning NUMA node zero\n",
      "2022-05-28 01:05:10.540000: I tensorflow/stream_executor/cuda/cuda_gpu_executor.cc:937] successful NUMA node read from SysFS had negative value (-1), but there must be at least one NUMA node, so returning NUMA node zero\n",
      "2022-05-28 01:05:10.541187: I tensorflow/core/common_runtime/gpu/gpu_device.cc:1510] Created device /job:localhost/replica:0/task:0/device:GPU:0 with 15403 MB memory:  -> device: 0, name: Tesla P100-PCIE-16GB, pci bus id: 0000:00:04.0, compute capability: 6.0\n"
     ]
    }
   ],
   "source": [
    "import warnings\n",
    "warnings.filterwarnings('ignore')\n",
    "from tensorflow.keras.models import Model, Sequential\n",
    "from tensorflow.keras.layers import Dense, Flatten, Conv2D, MaxPooling2D\n",
    "warnings.filterwarnings('ignore')\n",
    "\n",
    "model = Sequential([\n",
    "    Conv2D(16, (3, 3), activation='relu', input_shape=(IMG_HEIGHT, IMG_WIDTH, 3)), \n",
    "    MaxPooling2D(2, 2),\n",
    "    Conv2D(32, (3, 3), activation='relu'), \n",
    "    MaxPooling2D(2, 2),\n",
    "    Conv2D(64, (3, 3), activation='relu'),\n",
    "    Conv2D(64, (3, 3), activation='relu'),\n",
    "    MaxPooling2D(2, 2),\n",
    "    Conv2D(128, (3, 3), activation='relu'),\n",
    "    Conv2D(128, (3, 3), activation='relu'),\n",
    "    MaxPooling2D(2, 2),\n",
    "    Conv2D(256, (3, 3), activation='relu'),\n",
    "    Conv2D(256, (3, 3), activation='relu'),\n",
    "    Conv2D(256, (3, 3), activation='relu'),\n",
    "    MaxPooling2D(2, 2),\n",
    "    Flatten(),\n",
    "    Dense(512, activation='relu'),\n",
    "    Dense(512, activation='relu'),\n",
    "    Dense(11, activation='softmax')\n",
    "], name='CNN')\n",
    "\n",
    "model.summary()"
   ]
  },
  {
   "cell_type": "markdown",
   "id": "f5431a90",
   "metadata": {
    "papermill": {
     "duration": 1.090708,
     "end_time": "2022-05-28T01:05:12.139644",
     "exception": false,
     "start_time": "2022-05-28T01:05:11.048936",
     "status": "completed"
    },
    "tags": []
   },
   "source": [
    "### Step 3.3: Model Optimizer"
   ]
  },
  {
   "cell_type": "code",
   "execution_count": 17,
   "id": "43200fbc",
   "metadata": {
    "execution": {
     "iopub.execute_input": "2022-05-28T01:05:12.255163Z",
     "iopub.status.busy": "2022-05-28T01:05:12.254669Z",
     "iopub.status.idle": "2022-05-28T01:05:12.270281Z",
     "shell.execute_reply": "2022-05-28T01:05:12.269567Z"
    },
    "papermill": {
     "duration": 0.078356,
     "end_time": "2022-05-28T01:05:12.272198",
     "exception": false,
     "start_time": "2022-05-28T01:05:12.193842",
     "status": "completed"
    },
    "tags": []
   },
   "outputs": [],
   "source": [
    "from tensorflow.keras.optimizers import Adam\n",
    "# from tensorflow.keras.optimizers import SGD\n",
    "\n",
    "model.compile(loss=\"categorical_crossentropy\", optimizer=Adam(lr=1e-4), metrics=[\"accuracy\"])\n",
    "# model.compile(loss=\"categorical_crossentropy\", optimizer=SGD(lr=1e-4, momentum=0.9), metrics=[\"accuracy\"])"
   ]
  },
  {
   "cell_type": "markdown",
   "id": "4dc15a6f",
   "metadata": {
    "papermill": {
     "duration": 0.048477,
     "end_time": "2022-05-28T01:05:12.371314",
     "exception": false,
     "start_time": "2022-05-28T01:05:12.322837",
     "status": "completed"
    },
    "tags": []
   },
   "source": [
    "### Step 3.4: Model Checkpoint & EarlyStopping Callback"
   ]
  },
  {
   "cell_type": "code",
   "execution_count": 18,
   "id": "5f4f8261",
   "metadata": {
    "execution": {
     "iopub.execute_input": "2022-05-28T01:05:12.470483Z",
     "iopub.status.busy": "2022-05-28T01:05:12.470211Z",
     "iopub.status.idle": "2022-05-28T01:05:12.476227Z",
     "shell.execute_reply": "2022-05-28T01:05:12.475517Z"
    },
    "papermill": {
     "duration": 0.057141,
     "end_time": "2022-05-28T01:05:12.477949",
     "exception": false,
     "start_time": "2022-05-28T01:05:12.420808",
     "status": "completed"
    },
    "tags": []
   },
   "outputs": [],
   "source": [
    "from tensorflow.keras.callbacks import EarlyStopping, ModelCheckpoint\n",
    "# autosave best Model\n",
    "checkpoint_path = './training/vgg16_best_model.ckpt'\n",
    "checkpoint_dir = os.path.dirname(checkpoint_path)\n",
    "early = EarlyStopping(monitor='val_accuracy', mode='max', verbose=1, patience=10)\n",
    "checkpoint = ModelCheckpoint(checkpoint_path, monitor='val_acc', verbose=1, save_best_only=True, mode='max')"
   ]
  },
  {
   "cell_type": "markdown",
   "id": "aea35987",
   "metadata": {
    "papermill": {
     "duration": 0.048372,
     "end_time": "2022-05-28T01:05:12.574969",
     "exception": false,
     "start_time": "2022-05-28T01:05:12.526597",
     "status": "completed"
    },
    "tags": []
   },
   "source": [
    "### Step 3.5: Model Training"
   ]
  },
  {
   "cell_type": "code",
   "execution_count": 19,
   "id": "90b02813",
   "metadata": {
    "execution": {
     "iopub.execute_input": "2022-05-28T01:05:12.672778Z",
     "iopub.status.busy": "2022-05-28T01:05:12.672520Z",
     "iopub.status.idle": "2022-05-28T02:18:16.629289Z",
     "shell.execute_reply": "2022-05-28T02:18:16.628409Z"
    },
    "papermill": {
     "duration": 4388.887698,
     "end_time": "2022-05-28T02:18:21.510997",
     "exception": false,
     "start_time": "2022-05-28T01:05:12.623299",
     "status": "completed"
    },
    "tags": []
   },
   "outputs": [
    {
     "name": "stderr",
     "output_type": "stream",
     "text": [
      "2022-05-28 01:05:12.953542: I tensorflow/compiler/mlir/mlir_graph_optimization_pass.cc:185] None of the MLIR Optimization Passes are enabled (registered 2)\n"
     ]
    },
    {
     "name": "stdout",
     "output_type": "stream",
     "text": [
      "Epoch 1/50\n"
     ]
    },
    {
     "name": "stderr",
     "output_type": "stream",
     "text": [
      "2022-05-28 01:05:14.936727: I tensorflow/stream_executor/cuda/cuda_dnn.cc:369] Loaded cuDNN version 8005\n"
     ]
    },
    {
     "name": "stdout",
     "output_type": "stream",
     "text": [
      "312/312 [==============================] - 88s 256ms/step - loss: 1.9543 - accuracy: 0.3207 - val_loss: 1.4521 - val_accuracy: 0.4848\n",
      "Epoch 2/50\n",
      "312/312 [==============================] - 80s 255ms/step - loss: 1.5316 - accuracy: 0.4776 - val_loss: 1.3742 - val_accuracy: 0.5009\n",
      "Epoch 3/50\n",
      "312/312 [==============================] - 80s 257ms/step - loss: 1.4035 - accuracy: 0.5120 - val_loss: 1.3588 - val_accuracy: 0.5116\n",
      "Epoch 4/50\n",
      "312/312 [==============================] - 79s 254ms/step - loss: 1.2989 - accuracy: 0.5485 - val_loss: 1.4058 - val_accuracy: 0.5152\n",
      "Epoch 5/50\n",
      "312/312 [==============================] - 81s 259ms/step - loss: 1.2590 - accuracy: 0.5563 - val_loss: 1.0995 - val_accuracy: 0.6029\n",
      "Epoch 6/50\n",
      "312/312 [==============================] - 80s 256ms/step - loss: 1.2057 - accuracy: 0.5833 - val_loss: 1.0453 - val_accuracy: 0.6100\n",
      "Epoch 7/50\n",
      "312/312 [==============================] - 80s 258ms/step - loss: 1.1774 - accuracy: 0.5903 - val_loss: 1.2454 - val_accuracy: 0.5796\n",
      "Epoch 8/50\n",
      "312/312 [==============================] - 80s 258ms/step - loss: 1.1615 - accuracy: 0.5954 - val_loss: 1.0906 - val_accuracy: 0.6172\n",
      "Epoch 9/50\n",
      "312/312 [==============================] - 82s 261ms/step - loss: 1.1308 - accuracy: 0.6042 - val_loss: 0.9762 - val_accuracy: 0.6637\n",
      "Epoch 10/50\n",
      "312/312 [==============================] - 81s 260ms/step - loss: 1.1315 - accuracy: 0.6028 - val_loss: 0.9893 - val_accuracy: 0.6637\n",
      "Epoch 11/50\n",
      "312/312 [==============================] - 81s 259ms/step - loss: 1.1007 - accuracy: 0.6188 - val_loss: 1.1013 - val_accuracy: 0.6279\n",
      "Epoch 12/50\n",
      "312/312 [==============================] - 82s 262ms/step - loss: 1.0803 - accuracy: 0.6276 - val_loss: 0.8883 - val_accuracy: 0.6977\n",
      "Epoch 13/50\n",
      "312/312 [==============================] - 81s 260ms/step - loss: 1.0611 - accuracy: 0.6314 - val_loss: 0.9907 - val_accuracy: 0.6547\n",
      "Epoch 14/50\n",
      "312/312 [==============================] - 84s 268ms/step - loss: 1.0387 - accuracy: 0.6408 - val_loss: 1.0822 - val_accuracy: 0.6261\n",
      "Epoch 15/50\n",
      "312/312 [==============================] - 81s 261ms/step - loss: 1.0340 - accuracy: 0.6404 - val_loss: 0.9208 - val_accuracy: 0.6959\n",
      "Epoch 16/50\n",
      "312/312 [==============================] - 84s 268ms/step - loss: 1.0079 - accuracy: 0.6486 - val_loss: 0.8745 - val_accuracy: 0.6673\n",
      "Epoch 17/50\n",
      "312/312 [==============================] - 82s 262ms/step - loss: 0.9947 - accuracy: 0.6556 - val_loss: 0.9140 - val_accuracy: 0.6887\n",
      "Epoch 18/50\n",
      "312/312 [==============================] - 84s 268ms/step - loss: 0.9782 - accuracy: 0.6615 - val_loss: 0.9231 - val_accuracy: 0.6762\n",
      "Epoch 19/50\n",
      "312/312 [==============================] - 82s 263ms/step - loss: 0.9715 - accuracy: 0.6593 - val_loss: 0.9244 - val_accuracy: 0.6708\n",
      "Epoch 20/50\n",
      "312/312 [==============================] - 84s 268ms/step - loss: 0.9711 - accuracy: 0.6667 - val_loss: 0.8736 - val_accuracy: 0.7030\n",
      "Epoch 21/50\n",
      "312/312 [==============================] - 82s 262ms/step - loss: 0.9521 - accuracy: 0.6683 - val_loss: 0.8730 - val_accuracy: 0.6941\n",
      "Epoch 22/50\n",
      "312/312 [==============================] - 84s 270ms/step - loss: 0.9358 - accuracy: 0.6779 - val_loss: 0.9302 - val_accuracy: 0.6905\n",
      "Epoch 23/50\n",
      "312/312 [==============================] - 83s 265ms/step - loss: 0.9172 - accuracy: 0.6771 - val_loss: 0.8039 - val_accuracy: 0.7281\n",
      "Epoch 24/50\n",
      "312/312 [==============================] - 85s 272ms/step - loss: 0.8931 - accuracy: 0.6825 - val_loss: 0.8117 - val_accuracy: 0.7174\n",
      "Epoch 25/50\n",
      "312/312 [==============================] - 83s 265ms/step - loss: 0.8912 - accuracy: 0.6859 - val_loss: 0.9164 - val_accuracy: 0.6869\n",
      "Epoch 26/50\n",
      "312/312 [==============================] - 85s 273ms/step - loss: 0.8962 - accuracy: 0.6953 - val_loss: 1.0175 - val_accuracy: 0.6619\n",
      "Epoch 27/50\n",
      "312/312 [==============================] - 83s 265ms/step - loss: 0.8696 - accuracy: 0.6951 - val_loss: 0.9256 - val_accuracy: 0.6726\n",
      "Epoch 28/50\n",
      "312/312 [==============================] - 83s 267ms/step - loss: 0.8463 - accuracy: 0.6987 - val_loss: 0.7456 - val_accuracy: 0.7299\n",
      "Epoch 29/50\n",
      "312/312 [==============================] - 86s 276ms/step - loss: 0.8541 - accuracy: 0.7013 - val_loss: 0.8809 - val_accuracy: 0.7048\n",
      "Epoch 30/50\n",
      "312/312 [==============================] - 83s 267ms/step - loss: 0.8456 - accuracy: 0.7051 - val_loss: 0.9736 - val_accuracy: 0.6834\n",
      "Epoch 31/50\n",
      "312/312 [==============================] - 87s 280ms/step - loss: 0.8507 - accuracy: 0.7005 - val_loss: 0.7908 - val_accuracy: 0.7281\n",
      "Epoch 32/50\n",
      "312/312 [==============================] - 87s 277ms/step - loss: 0.8299 - accuracy: 0.7087 - val_loss: 0.8962 - val_accuracy: 0.6923\n",
      "Epoch 33/50\n",
      "312/312 [==============================] - 84s 270ms/step - loss: 0.8155 - accuracy: 0.7167 - val_loss: 0.8087 - val_accuracy: 0.7120\n",
      "Epoch 34/50\n",
      "312/312 [==============================] - 86s 275ms/step - loss: 0.8190 - accuracy: 0.7139 - val_loss: 0.6772 - val_accuracy: 0.7531\n",
      "Epoch 35/50\n",
      "312/312 [==============================] - 83s 266ms/step - loss: 0.8020 - accuracy: 0.7190 - val_loss: 0.7396 - val_accuracy: 0.7639\n",
      "Epoch 36/50\n",
      "312/312 [==============================] - 85s 271ms/step - loss: 0.7918 - accuracy: 0.7318 - val_loss: 0.7490 - val_accuracy: 0.7388\n",
      "Epoch 37/50\n",
      "312/312 [==============================] - 88s 280ms/step - loss: 0.7647 - accuracy: 0.7332 - val_loss: 0.7782 - val_accuracy: 0.7352\n",
      "Epoch 38/50\n",
      "312/312 [==============================] - 84s 271ms/step - loss: 0.7793 - accuracy: 0.7312 - val_loss: 0.7257 - val_accuracy: 0.7388\n",
      "Epoch 39/50\n",
      "312/312 [==============================] - 85s 274ms/step - loss: 0.7724 - accuracy: 0.7334 - val_loss: 0.7778 - val_accuracy: 0.7335\n",
      "Epoch 40/50\n",
      "312/312 [==============================] - 81s 261ms/step - loss: 0.7626 - accuracy: 0.7332 - val_loss: 0.7315 - val_accuracy: 0.7549\n",
      "Epoch 41/50\n",
      "312/312 [==============================] - 85s 272ms/step - loss: 0.7651 - accuracy: 0.7310 - val_loss: 0.7782 - val_accuracy: 0.7156\n",
      "Epoch 42/50\n",
      "312/312 [==============================] - 82s 262ms/step - loss: 0.7342 - accuracy: 0.7360 - val_loss: 0.6884 - val_accuracy: 0.7674\n",
      "Epoch 43/50\n",
      "312/312 [==============================] - 83s 265ms/step - loss: 0.7345 - accuracy: 0.7400 - val_loss: 0.7793 - val_accuracy: 0.7335\n",
      "Epoch 44/50\n",
      "312/312 [==============================] - 81s 261ms/step - loss: 0.7356 - accuracy: 0.7410 - val_loss: 0.6543 - val_accuracy: 0.7657\n",
      "Epoch 45/50\n",
      "312/312 [==============================] - 83s 264ms/step - loss: 0.7039 - accuracy: 0.7556 - val_loss: 0.6317 - val_accuracy: 0.7764\n",
      "Epoch 46/50\n",
      "312/312 [==============================] - 85s 272ms/step - loss: 0.7072 - accuracy: 0.7494 - val_loss: 0.6543 - val_accuracy: 0.7746\n",
      "Epoch 47/50\n",
      "312/312 [==============================] - 83s 265ms/step - loss: 0.7127 - accuracy: 0.7514 - val_loss: 0.6879 - val_accuracy: 0.7710\n",
      "Epoch 48/50\n",
      "312/312 [==============================] - 82s 263ms/step - loss: 0.7100 - accuracy: 0.7478 - val_loss: 0.7700 - val_accuracy: 0.7317\n",
      "Epoch 49/50\n",
      "312/312 [==============================] - 83s 266ms/step - loss: 0.7014 - accuracy: 0.7546 - val_loss: 0.6402 - val_accuracy: 0.7782\n",
      "Epoch 50/50\n",
      "312/312 [==============================] - 82s 262ms/step - loss: 0.6936 - accuracy: 0.7590 - val_loss: 0.7620 - val_accuracy: 0.7317\n"
     ]
    }
   ],
   "source": [
    "history = model.fit_generator(train_generator,\n",
    "                              epochs=50,\n",
    "                              verbose=1,\n",
    "                              validation_data=valid_generator,\n",
    "                              callbacks = [checkpoint, early])"
   ]
  },
  {
   "cell_type": "markdown",
   "id": "0e034c61",
   "metadata": {
    "papermill": {
     "duration": 4.970812,
     "end_time": "2022-05-28T02:18:32.310777",
     "exception": false,
     "start_time": "2022-05-28T02:18:27.339965",
     "status": "completed"
    },
    "tags": []
   },
   "source": [
    "## Step 4: Model Evaluation"
   ]
  },
  {
   "cell_type": "code",
   "execution_count": 20,
   "id": "28441552",
   "metadata": {
    "execution": {
     "iopub.execute_input": "2022-05-28T02:18:42.683309Z",
     "iopub.status.busy": "2022-05-28T02:18:42.683048Z",
     "iopub.status.idle": "2022-05-28T02:18:45.982971Z",
     "shell.execute_reply": "2022-05-28T02:18:45.982123Z"
    },
    "papermill": {
     "duration": 8.205378,
     "end_time": "2022-05-28T02:18:45.985301",
     "exception": false,
     "start_time": "2022-05-28T02:18:37.779923",
     "status": "completed"
    },
    "tags": []
   },
   "outputs": [
    {
     "name": "stdout",
     "output_type": "stream",
     "text": [
      "Loss: 0.7620 Accuracy: 0.7317\n"
     ]
    }
   ],
   "source": [
    "evl = model.evaluate_generator(valid_generator)\n",
    "print(\"Loss: {:0.4f}\".format(evl[0]), \"Accuracy: {:0.4f}\".format(evl[1]))"
   ]
  },
  {
   "cell_type": "markdown",
   "id": "e7da7c62",
   "metadata": {
    "papermill": {
     "duration": 5.180332,
     "end_time": "2022-05-28T02:18:56.206900",
     "exception": false,
     "start_time": "2022-05-28T02:18:51.026568",
     "status": "completed"
    },
    "tags": []
   },
   "source": [
    "### Step 4.1: Performance Visusalization"
   ]
  },
  {
   "cell_type": "code",
   "execution_count": 21,
   "id": "182b7810",
   "metadata": {
    "execution": {
     "iopub.execute_input": "2022-05-28T02:19:06.973382Z",
     "iopub.status.busy": "2022-05-28T02:19:06.973085Z",
     "iopub.status.idle": "2022-05-28T02:19:07.178085Z",
     "shell.execute_reply": "2022-05-28T02:19:07.177413Z"
    },
    "papermill": {
     "duration": 5.427479,
     "end_time": "2022-05-28T02:19:07.180028",
     "exception": false,
     "start_time": "2022-05-28T02:19:01.752549",
     "status": "completed"
    },
    "tags": []
   },
   "outputs": [
    {
     "data": {
      "image/png": "[encoded data removed]",
      "text/plain": [
       "<Figure size 432x288 with 1 Axes>"
      ]
     },
     "metadata": {
      "needs_background": "light"
     },
     "output_type": "display_data"
    }
   ],
   "source": [
    "acc = history.history['accuracy']\n",
    "val_acc = history.history['val_accuracy']\n",
    "loss = history.history['loss']\n",
    "val_loss = history.history['val_loss']\n",
    "\n",
    "epochs=range(len(acc))\n",
    "\n",
    "import matplotlib.pyplot as plt\n",
    "plt.plot(epochs, acc, 'r', label=\"Training Accuracy\")\n",
    "plt.plot(epochs, val_acc, 'b', label=\"Validation Accuracy\")\n",
    "plt.plot(epochs, loss, 'r', label=\"Training Loss\")\n",
    "plt.plot(epochs, val_loss, 'b', label=\"Validation Loss\")\n",
    "plt.title(\"Model Accuracy\")\n",
    "plt.ylabel(\"Accuracy\")\n",
    "plt.xlabel(\"Epoch\")\n",
    "plt.legend([\"Accuracy\",\"Validation Accuracy\",\"loss\",\"Validation Loss\"])\n",
    "plt.show()"
   ]
  },
  {
   "cell_type": "markdown",
   "id": "aa36eae8",
   "metadata": {
    "papermill": {
     "duration": 4.969116,
     "end_time": "2022-05-28T02:19:17.095267",
     "exception": false,
     "start_time": "2022-05-28T02:19:12.126151",
     "status": "completed"
    },
    "tags": []
   },
   "source": [
    "## Step 5: Model Prediction"
   ]
  },
  {
   "cell_type": "markdown",
   "id": "edb87f1a",
   "metadata": {
    "papermill": {
     "duration": 4.993666,
     "end_time": "2022-05-28T02:19:27.277372",
     "exception": false,
     "start_time": "2022-05-28T02:19:22.283706",
     "status": "completed"
    },
    "tags": []
   },
   "source": [
    "### Step 5.1: Reading Test Images into a Dataframe"
   ]
  },
  {
   "cell_type": "code",
   "execution_count": 22,
   "id": "c0cc226e",
   "metadata": {
    "execution": {
     "iopub.execute_input": "2022-05-28T02:19:38.166360Z",
     "iopub.status.busy": "2022-05-28T02:19:38.166045Z",
     "iopub.status.idle": "2022-05-28T02:19:38.176291Z",
     "shell.execute_reply": "2022-05-28T02:19:38.175502Z"
    },
    "papermill": {
     "duration": 5.040618,
     "end_time": "2022-05-28T02:19:38.179243",
     "exception": false,
     "start_time": "2022-05-28T02:19:33.138625",
     "status": "completed"
    },
    "tags": []
   },
   "outputs": [
    {
     "name": "stdout",
     "output_type": "stream",
     "text": [
      "Number of Loaded Test Data Samples:  1300\n"
     ]
    }
   ],
   "source": [
    "import pandas as pd\n",
    "TEST_DIR = './Dataset/Test'\n",
    "img_path = os.listdir(TEST_DIR)\n",
    "test_df = pd.DataFrame({'image_name': img_path})\n",
    "n_test_samples = test_df.shape[0]\n",
    "print(\"Number of Loaded Test Data Samples: \", n_test_samples)"
   ]
  },
  {
   "cell_type": "markdown",
   "id": "248c7cbe",
   "metadata": {
    "papermill": {
     "duration": 5.054702,
     "end_time": "2022-05-28T02:19:48.455301",
     "exception": false,
     "start_time": "2022-05-28T02:19:43.400599",
     "status": "completed"
    },
    "tags": []
   },
   "source": [
    "### Step 5.2: Test Image Data Generator"
   ]
  },
  {
   "cell_type": "code",
   "execution_count": 23,
   "id": "68b70529",
   "metadata": {
    "execution": {
     "iopub.execute_input": "2022-05-28T02:19:58.620687Z",
     "iopub.status.busy": "2022-05-28T02:19:58.620339Z",
     "iopub.status.idle": "2022-05-28T02:19:58.644450Z",
     "shell.execute_reply": "2022-05-28T02:19:58.643764Z"
    },
    "papermill": {
     "duration": 4.936727,
     "end_time": "2022-05-28T02:19:58.646210",
     "exception": false,
     "start_time": "2022-05-28T02:19:53.709483",
     "status": "completed"
    },
    "tags": []
   },
   "outputs": [
    {
     "name": "stdout",
     "output_type": "stream",
     "text": [
      "Found 1300 validated image filenames.\n"
     ]
    }
   ],
   "source": [
    "test_datagen = ImageDataGenerator(rescale = 1/255.0)\n",
    "\n",
    "test_generator = test_datagen.flow_from_dataframe(test_df, \n",
    "                                                  directory=TEST_DIR,\n",
    "                                                  x_col='image_name',\n",
    "                                                  target_size=(IMG_HEIGHT, IMG_WIDTH),\n",
    "                                                  y_col=None,\n",
    "                                                  batch_size=1,\n",
    "                                                  class_mode=None,\n",
    "                                                  shuffle=False)"
   ]
  },
  {
   "cell_type": "code",
   "execution_count": 24,
   "id": "8ca87dc1",
   "metadata": {
    "execution": {
     "iopub.execute_input": "2022-05-28T02:20:09.345402Z",
     "iopub.status.busy": "2022-05-28T02:20:09.345057Z",
     "iopub.status.idle": "2022-05-28T02:20:18.533933Z",
     "shell.execute_reply": "2022-05-28T02:20:18.533253Z"
    },
    "papermill": {
     "duration": 14.635384,
     "end_time": "2022-05-28T02:20:18.535810",
     "exception": false,
     "start_time": "2022-05-28T02:20:03.900426",
     "status": "completed"
    },
    "tags": []
   },
   "outputs": [
    {
     "data": {
      "text/html": [
       "<div>\n",
       "<style scoped>\n",
       "    .dataframe tbody tr th:only-of-type {\n",
       "        vertical-align: middle;\n",
       "    }\n",
       "\n",
       "    .dataframe tbody tr th {\n",
       "        vertical-align: top;\n",
       "    }\n",
       "\n",
       "    .dataframe thead th {\n",
       "        text-align: right;\n",
       "    }\n",
       "</style>\n",
       "<table border=\"1\" class=\"dataframe\">\n",
       "  <thead>\n",
       "    <tr style=\"text-align: right;\">\n",
       "      <th></th>\n",
       "      <th>image_name</th>\n",
       "      <th>label</th>\n",
       "    </tr>\n",
       "  </thead>\n",
       "  <tbody>\n",
       "    <tr>\n",
       "      <th>0</th>\n",
       "      <td>test_764.jpg</td>\n",
       "      <td>10</td>\n",
       "    </tr>\n",
       "    <tr>\n",
       "      <th>1</th>\n",
       "      <td>test_892.jpg</td>\n",
       "      <td>5</td>\n",
       "    </tr>\n",
       "    <tr>\n",
       "      <th>2</th>\n",
       "      <td>test_621.jpg</td>\n",
       "      <td>2</td>\n",
       "    </tr>\n",
       "    <tr>\n",
       "      <th>3</th>\n",
       "      <td>test_1277.jpg</td>\n",
       "      <td>8</td>\n",
       "    </tr>\n",
       "    <tr>\n",
       "      <th>4</th>\n",
       "      <td>test_1156.jpg</td>\n",
       "      <td>5</td>\n",
       "    </tr>\n",
       "  </tbody>\n",
       "</table>\n",
       "</div>"
      ],
      "text/plain": [
       "      image_name  label\n",
       "0   test_764.jpg     10\n",
       "1   test_892.jpg      5\n",
       "2   test_621.jpg      2\n",
       "3  test_1277.jpg      8\n",
       "4  test_1156.jpg      5"
      ]
     },
     "execution_count": 24,
     "metadata": {},
     "output_type": "execute_result"
    }
   ],
   "source": [
    "import numpy as np\n",
    "\n",
    "pred_array = model.predict(test_generator, steps=np.ceil(n_test_samples/1.0))\n",
    "predictions = np.argmax(pred_array, axis=1)\n",
    "test_df['label'] = predictions\n",
    "test_df.head()"
   ]
  },
  {
   "cell_type": "markdown",
   "id": "58a61e2b",
   "metadata": {
    "papermill": {
     "duration": 4.984096,
     "end_time": "2022-05-28T02:20:28.739354",
     "exception": false,
     "start_time": "2022-05-28T02:20:23.755258",
     "status": "completed"
    },
    "tags": []
   },
   "source": [
    "## Step 6: Model Saving"
   ]
  },
  {
   "cell_type": "code",
   "execution_count": 25,
   "id": "9e1b43f2",
   "metadata": {
    "execution": {
     "iopub.execute_input": "2022-05-28T02:20:39.656779Z",
     "iopub.status.busy": "2022-05-28T02:20:39.656519Z",
     "iopub.status.idle": "2022-05-28T02:20:39.766243Z",
     "shell.execute_reply": "2022-05-28T02:20:39.765501Z"
    },
    "papermill": {
     "duration": 6.046544,
     "end_time": "2022-05-28T02:20:39.768457",
     "exception": false,
     "start_time": "2022-05-28T02:20:33.721913",
     "status": "completed"
    },
    "tags": []
   },
   "outputs": [],
   "source": [
    "model.save('cnn-model.h5')"
   ]
  },
  {
   "cell_type": "markdown",
   "id": "9370b2c8",
   "metadata": {
    "papermill": {
     "duration": 5.255366,
     "end_time": "2022-05-28T02:20:50.009679",
     "exception": false,
     "start_time": "2022-05-28T02:20:44.754313",
     "status": "completed"
    },
    "tags": []
   },
   "source": [
    "## Step 7: Submission File Creation"
   ]
  },
  {
   "cell_type": "code",
   "execution_count": 26,
   "id": "32d5e92e",
   "metadata": {
    "execution": {
     "iopub.execute_input": "2022-05-28T02:21:00.287080Z",
     "iopub.status.busy": "2022-05-28T02:21:00.286698Z",
     "iopub.status.idle": "2022-05-28T02:21:00.296781Z",
     "shell.execute_reply": "2022-05-28T02:21:00.295987Z"
    },
    "papermill": {
     "duration": 5.237575,
     "end_time": "2022-05-28T02:21:00.299222",
     "exception": false,
     "start_time": "2022-05-28T02:20:55.061647",
     "status": "completed"
    },
    "tags": []
   },
   "outputs": [
    {
     "name": "stdout",
     "output_type": "stream",
     "text": [
      "[START]: File Creation...\n",
      "[END]: File Creation!\n"
     ]
    }
   ],
   "source": [
    "print(\"[START]: File Creation...\")\n",
    "test_df.to_csv(r'./submission_3.csv', index=False)\n",
    "print(\"[END]: File Creation!\")"
   ]
  }
 ],
 "metadata": {
  "kernelspec": {
   "display_name": "Python 3",
   "language": "python",
   "name": "python3"
  },
  "language_info": {
   "codemirror_mode": {
    "name": "ipython",
    "version": 3
   },
   "file_extension": ".py",
   "mimetype": "text/x-python",
   "name": "python",
   "nbconvert_exporter": "python",
   "pygments_lexer": "ipython3",
   "version": "3.8.8"
  },
  "papermill": {
   "default_parameters": {},
   "duration": 4597.974748,
   "end_time": "2022-05-28T02:21:08.992294",
   "environment_variables": {},
   "exception": null,
   "input_path": "__notebook__.ipynb",
   "output_path": "__notebook__.ipynb",
   "parameters": {},
   "start_time": "2022-05-28T01:04:31.017546",
   "version": "2.3.4"
  }
 },
 "nbformat": 4,
 "nbformat_minor": 5
}
