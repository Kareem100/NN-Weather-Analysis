{
 "cells": [
  {
   "cell_type": "markdown",
   "id": "fab3c52d",
   "metadata": {
    "papermill": {
     "duration": 0.01731,
     "end_time": "2022-05-23T21:54:45.709301",
     "exception": false,
     "start_time": "2022-05-23T21:54:45.691991",
     "status": "completed"
    },
    "tags": []
   },
   "source": [
    "# **Importing Libraries**"
   ]
  },
  {
   "cell_type": "code",
   "execution_count": 1,
   "id": "85802f7f",
   "metadata": {
    "_cell_guid": "b1076dfc-b9ad-4769-8c92-a6c4dae69d19",
    "_uuid": "8f2839f25d086af736a60e9eeb907d3b93b6e0e5",
    "execution": {
     "iopub.execute_input": "2022-05-23T21:54:45.741962Z",
     "iopub.status.busy": "2022-05-23T21:54:45.741665Z",
     "iopub.status.idle": "2022-05-23T21:54:52.400307Z",
     "shell.execute_reply": "2022-05-23T21:54:52.399495Z"
    },
    "papermill": {
     "duration": 6.677985,
     "end_time": "2022-05-23T21:54:52.402842",
     "exception": false,
     "start_time": "2022-05-23T21:54:45.724857",
     "status": "completed"
    },
    "tags": []
   },
   "outputs": [],
   "source": [
    "import os\n",
    "import cv2\n",
    "import glob\n",
    "import numpy as np\n",
    "import pandas as pd\n",
    "import tensorflow as tf\n",
    "import tensorflow_hub as hub\n",
    "import seaborn as sns\n",
    "import matplotlib.pyplot as plt\n",
    "import keras\n",
    "from pathlib import Path\n",
    "from sklearn.model_selection import train_test_split\n",
    "from tensorflow.keras.preprocessing.image import ImageDataGenerator\n",
    "from tensorflow.keras.callbacks import Callback, EarlyStopping\n",
    "from sklearn.metrics import confusion_matrix, classification_report\n",
    "from tensorflow.keras.models import Model, Sequential\n",
    "from tensorflow.keras.layers import Input, Dense, Activation, BatchNormalization, Flatten, Reshape\n",
    "from tensorflow.keras.layers import Conv2D, MaxPooling2D, UpSampling2D, Dropout, AveragePooling2D, ZeroPadding2D\n",
    "from sklearn.preprocessing import LabelEncoder"
   ]
  },
  {
   "cell_type": "markdown",
   "id": "badc5416",
   "metadata": {
    "papermill": {
     "duration": 0.015631,
     "end_time": "2022-05-23T21:54:52.434853",
     "exception": false,
     "start_time": "2022-05-23T21:54:52.419222",
     "status": "completed"
    },
    "tags": []
   },
   "source": [
    "# **Reading Train and Validation Data**"
   ]
  },
  {
   "cell_type": "code",
   "execution_count": 2,
   "id": "cb4f4435",
   "metadata": {
    "execution": {
     "iopub.execute_input": "2022-05-23T21:54:52.467147Z",
     "iopub.status.busy": "2022-05-23T21:54:52.466918Z",
     "iopub.status.idle": "2022-05-23T21:54:52.470501Z",
     "shell.execute_reply": "2022-05-23T21:54:52.469764Z"
    },
    "papermill": {
     "duration": 0.021551,
     "end_time": "2022-05-23T21:54:52.472143",
     "exception": false,
     "start_time": "2022-05-23T21:54:52.450592",
     "status": "completed"
    },
    "tags": []
   },
   "outputs": [],
   "source": [
    "# Reading Paths\n",
    "\n",
    "train_dir = Path(\"../input/nn22-weather-analysis-using-image-recognition/Dataset/Train\")\n",
    "test_dir = Path(\"../input/nn22-weather-analysis-using-image-recognition/Dataset/Test\")"
   ]
  },
  {
   "cell_type": "code",
   "execution_count": 3,
   "id": "613e0b12",
   "metadata": {
    "execution": {
     "iopub.execute_input": "2022-05-23T21:54:52.504638Z",
     "iopub.status.busy": "2022-05-23T21:54:52.504134Z",
     "iopub.status.idle": "2022-05-23T21:54:53.912640Z",
     "shell.execute_reply": "2022-05-23T21:54:53.911984Z"
    },
    "papermill": {
     "duration": 1.426314,
     "end_time": "2022-05-23T21:54:53.914390",
     "exception": false,
     "start_time": "2022-05-23T21:54:52.488076",
     "status": "completed"
    },
    "tags": []
   },
   "outputs": [
    {
     "data": {
      "text/html": [
       "<div>\n",
       "<style scoped>\n",
       "    .dataframe tbody tr th:only-of-type {\n",
       "        vertical-align: middle;\n",
       "    }\n",
       "\n",
       "    .dataframe tbody tr th {\n",
       "        vertical-align: top;\n",
       "    }\n",
       "\n",
       "    .dataframe thead th {\n",
       "        text-align: right;\n",
       "    }\n",
       "</style>\n",
       "<table border=\"1\" class=\"dataframe\">\n",
       "  <thead>\n",
       "    <tr style=\"text-align: right;\">\n",
       "      <th></th>\n",
       "      <th>File_Path</th>\n",
       "      <th>Labels</th>\n",
       "    </tr>\n",
       "  </thead>\n",
       "  <tbody>\n",
       "    <tr>\n",
       "      <th>0</th>\n",
       "      <td>../input/nn22-weather-analysis-using-image-rec...</td>\n",
       "      <td>sandstorm</td>\n",
       "    </tr>\n",
       "    <tr>\n",
       "      <th>1</th>\n",
       "      <td>../input/nn22-weather-analysis-using-image-rec...</td>\n",
       "      <td>rime</td>\n",
       "    </tr>\n",
       "    <tr>\n",
       "      <th>2</th>\n",
       "      <td>../input/nn22-weather-analysis-using-image-rec...</td>\n",
       "      <td>dew</td>\n",
       "    </tr>\n",
       "    <tr>\n",
       "      <th>3</th>\n",
       "      <td>../input/nn22-weather-analysis-using-image-rec...</td>\n",
       "      <td>lightning</td>\n",
       "    </tr>\n",
       "    <tr>\n",
       "      <th>4</th>\n",
       "      <td>../input/nn22-weather-analysis-using-image-rec...</td>\n",
       "      <td>rain</td>\n",
       "    </tr>\n",
       "  </tbody>\n",
       "</table>\n",
       "</div>"
      ],
      "text/plain": [
       "                                           File_Path     Labels\n",
       "0  ../input/nn22-weather-analysis-using-image-rec...  sandstorm\n",
       "1  ../input/nn22-weather-analysis-using-image-rec...       rime\n",
       "2  ../input/nn22-weather-analysis-using-image-rec...        dew\n",
       "3  ../input/nn22-weather-analysis-using-image-rec...  lightning\n",
       "4  ../input/nn22-weather-analysis-using-image-rec...       rain"
      ]
     },
     "execution_count": 3,
     "metadata": {},
     "output_type": "execute_result"
    }
   ],
   "source": [
    "# Get Images Dataframe\n",
    "\n",
    "filepaths = list(train_dir.glob(r'**/*.jpg'))\n",
    "labels = list(map(lambda x: os.path.split(os.path.split(x)[0])[1], filepaths))\n",
    "file_path = pd.Series(filepaths, name = 'File_Path').astype(str)\n",
    "labels = pd.Series(labels, name = 'Labels')\n",
    "images = pd.concat([file_path, labels], axis = 1)\n",
    "data = pd.concat([file_path, labels], axis=1)\n",
    "data = data.sample(frac=1).reset_index(drop=True)\n",
    "data.head()"
   ]
  },
  {
   "cell_type": "code",
   "execution_count": 4,
   "id": "7a34614f",
   "metadata": {
    "execution": {
     "iopub.execute_input": "2022-05-23T21:54:53.948715Z",
     "iopub.status.busy": "2022-05-23T21:54:53.948029Z",
     "iopub.status.idle": "2022-05-23T21:54:53.957283Z",
     "shell.execute_reply": "2022-05-23T21:54:53.956267Z"
    },
    "papermill": {
     "duration": 0.028698,
     "end_time": "2022-05-23T21:54:53.959828",
     "exception": false,
     "start_time": "2022-05-23T21:54:53.931130",
     "status": "completed"
    },
    "tags": []
   },
   "outputs": [
    {
     "name": "stdout",
     "output_type": "stream",
     "text": [
      "size of train dataframe:  4440\n",
      "size of valid dataframe:  1111\n"
     ]
    }
   ],
   "source": [
    "# Splite Data into Train and Validation\n",
    "\n",
    "train_df, valid_df = train_test_split(data, test_size=0.2, random_state=2)\n",
    "print(\"size of train dataframe: \", train_df[\"Labels\"].size)\n",
    "print(\"size of valid dataframe: \", valid_df[\"Labels\"].size)"
   ]
  },
  {
   "cell_type": "code",
   "execution_count": 5,
   "id": "d5009bed",
   "metadata": {
    "execution": {
     "iopub.execute_input": "2022-05-23T21:54:53.993847Z",
     "iopub.status.busy": "2022-05-23T21:54:53.993669Z",
     "iopub.status.idle": "2022-05-23T21:54:54.009211Z",
     "shell.execute_reply": "2022-05-23T21:54:54.008556Z"
    },
    "papermill": {
     "duration": 0.03467,
     "end_time": "2022-05-23T21:54:54.010872",
     "exception": false,
     "start_time": "2022-05-23T21:54:53.976202",
     "status": "completed"
    },
    "tags": []
   },
   "outputs": [],
   "source": [
    "# Reading Images Data\n",
    "\n",
    "def read_data(data_frame): # data_frame param here can be train_df or valid_df\n",
    "    X_image = []\n",
    "    Y_label = []\n",
    "\n",
    "    lbl = LabelEncoder()\n",
    "    lbl.fit(list(data_frame[\"Labels\"].values))\n",
    "    data_frame[\"Labels\"] = lbl.transform(list(data_frame[\"Labels\"].values))\n",
    "    X_arr = np.array(data_frame[\"File_Path\"])\n",
    "    Y_arr = np.array(data_frame[\"Labels\"])\n",
    "\n",
    "\n",
    "    for i in range (len(X_arr)):\n",
    "        img_path = X_arr[i]\n",
    "        img_label = Y_arr[i]\n",
    "\n",
    "        try:\n",
    "            x = cv2.imread(img_path)\n",
    "            img_data = cv2.resize(x, (224, 224))\n",
    "            img_data = img_data.reshape(224, 224, 3)\n",
    "            X_image.append(np.array(img_data))\n",
    "\n",
    "            # labels\n",
    "            if img_label == 0:\n",
    "                Y_label.append(np.array([1, 0, 0, 0, 0, 0, 0, 0, 0, 0, 0]))\n",
    "            elif img_label == 1:\n",
    "                Y_label.append(np.array([0, 1, 0, 0, 0, 0, 0, 0, 0, 0, 0]))\n",
    "            elif img_label == 2:\n",
    "                Y_label.append(np.array([0, 0, 1, 0, 0, 0, 0, 0, 0, 0, 0]))\n",
    "            elif img_label == 3:\n",
    "                Y_label.append(np.array([0, 0, 0, 1, 0, 0, 0, 0, 0, 0, 0]))\n",
    "            elif img_label == 4:\n",
    "                Y_label.append(np.array([0, 0, 0, 0, 1, 0, 0, 0, 0, 0, 0]))\n",
    "            elif img_label == 5:\n",
    "                Y_label.append(np.array([0, 0, 0, 0, 0, 1, 0, 0, 0, 0, 0]))\n",
    "            elif img_label == 6:\n",
    "                Y_label.append(np.array([0, 0, 0, 0, 0, 0, 1, 0, 0, 0, 0]))\n",
    "            elif img_label == 7:\n",
    "                Y_label.append(np.array([0, 0, 0, 0, 0, 0, 0, 1, 0, 0, 0]))\n",
    "            elif img_label == 8:\n",
    "                Y_label.append(np.array([0, 0, 0, 0, 0, 0, 0, 0, 1, 0, 0]))\n",
    "            elif img_label == 9:\n",
    "                Y_label.append(np.array([0, 0, 0, 0, 0, 0, 0, 0, 0, 1, 0]))\n",
    "            elif img_label == 10:\n",
    "                Y_label.append(np.array([0, 0, 0, 0, 0, 0, 0, 0, 0, 0, 1]))\n",
    "\n",
    "        except:\n",
    "            print(\"!!!Skipped Example Here!!!\")\n",
    "\n",
    "    print(\"The size of images: \"+ str(len(X_image)))\n",
    "    print(\"The size of Labels: \"+ str(len(Y_label)))\n",
    "    \n",
    "    return X_image, Y_label"
   ]
  },
  {
   "cell_type": "code",
   "execution_count": 6,
   "id": "8d0490b6",
   "metadata": {
    "execution": {
     "iopub.execute_input": "2022-05-23T21:54:54.046018Z",
     "iopub.status.busy": "2022-05-23T21:54:54.045833Z",
     "iopub.status.idle": "2022-05-23T21:55:51.795964Z",
     "shell.execute_reply": "2022-05-23T21:55:51.795061Z"
    },
    "papermill": {
     "duration": 57.769251,
     "end_time": "2022-05-23T21:55:51.798225",
     "exception": false,
     "start_time": "2022-05-23T21:54:54.028974",
     "status": "completed"
    },
    "tags": []
   },
   "outputs": [
    {
     "name": "stdout",
     "output_type": "stream",
     "text": [
      "The Training Data: \n",
      "!!!Skipped Example Here!!!\n",
      "The size of images: 4439\n",
      "The size of Labels: 4439\n",
      "The Validation Data: \n",
      "The size of images: 1111\n",
      "The size of Labels: 1111\n"
     ]
    }
   ],
   "source": [
    "# Reading Data\n",
    "\n",
    "print(\"The Training Data: \")\n",
    "X_train, Y_train = read_data(train_df)\n",
    "print(\"The Validation Data: \")\n",
    "X_valid, Y_valid = read_data(valid_df)"
   ]
  },
  {
   "cell_type": "code",
   "execution_count": 7,
   "id": "a8da6942",
   "metadata": {
    "execution": {
     "iopub.execute_input": "2022-05-23T21:55:51.836139Z",
     "iopub.status.busy": "2022-05-23T21:55:51.835586Z",
     "iopub.status.idle": "2022-05-23T21:55:52.082957Z",
     "shell.execute_reply": "2022-05-23T21:55:52.082323Z"
    },
    "papermill": {
     "duration": 0.268582,
     "end_time": "2022-05-23T21:55:52.085282",
     "exception": false,
     "start_time": "2022-05-23T21:55:51.816700",
     "status": "completed"
    },
    "tags": []
   },
   "outputs": [
    {
     "data": {
      "image/png": "[encoded data removed]",
      "text/plain": [
       "<Figure size 360x360 with 1 Axes>"
      ]
     },
     "metadata": {
      "needs_background": "light"
     },
     "output_type": "display_data"
    }
   ],
   "source": [
    "# Plotting one Image\n",
    "\n",
    "plt.figure(figsize=(5, 5))\n",
    "plt.imshow(X_train[0])\n",
    "plt.show()"
   ]
  },
  {
   "cell_type": "markdown",
   "id": "24094afe",
   "metadata": {
    "papermill": {
     "duration": 0.019355,
     "end_time": "2022-05-23T21:55:52.124109",
     "exception": false,
     "start_time": "2022-05-23T21:55:52.104754",
     "status": "completed"
    },
    "tags": []
   },
   "source": [
    "# **Creation of The Model**"
   ]
  },
  {
   "cell_type": "code",
   "execution_count": 8,
   "id": "54e4ec6a",
   "metadata": {
    "execution": {
     "iopub.execute_input": "2022-05-23T21:55:52.163869Z",
     "iopub.status.busy": "2022-05-23T21:55:52.163676Z",
     "iopub.status.idle": "2022-05-23T21:55:52.177577Z",
     "shell.execute_reply": "2022-05-23T21:55:52.176808Z"
    },
    "papermill": {
     "duration": 0.035988,
     "end_time": "2022-05-23T21:55:52.179481",
     "exception": false,
     "start_time": "2022-05-23T21:55:52.143493",
     "status": "completed"
    },
    "tags": []
   },
   "outputs": [],
   "source": [
    "# model creation\n",
    "\n",
    "def create_model():\n",
    "    \n",
    "    #Instantiation\n",
    "    AlexNet = Sequential()\n",
    "    \n",
    "    #1st Convolutional Layer\n",
    "    AlexNet.add(Conv2D(filters=96, input_shape=(224,224,3), kernel_size=(11,11), strides=(4,4), padding='same'))\n",
    "    AlexNet.add(BatchNormalization())\n",
    "    AlexNet.add(Activation('relu'))\n",
    "    AlexNet.add(MaxPooling2D(pool_size=(2,2), strides=(2,2), padding='same'))\n",
    "    \n",
    "    #2nd Convolutional Layer\n",
    "    AlexNet.add(Conv2D(filters=256, kernel_size=(5, 5), strides=(1,1), padding='same'))\n",
    "    AlexNet.add(BatchNormalization())\n",
    "    AlexNet.add(Activation('relu'))\n",
    "    AlexNet.add(MaxPooling2D(pool_size=(2,2), strides=(2,2), padding='same'))\n",
    "    \n",
    "    #3rd Convolutional Layer\n",
    "    AlexNet.add(Conv2D(filters=384, kernel_size=(3,3), strides=(1,1), padding='same'))\n",
    "    AlexNet.add(BatchNormalization())\n",
    "    AlexNet.add(Activation('relu'))\n",
    "    \n",
    "    #4th Convolutional Layer\n",
    "    AlexNet.add(Conv2D(filters=384, kernel_size=(3,3), strides=(1,1), padding='same'))\n",
    "    AlexNet.add(BatchNormalization())\n",
    "    AlexNet.add(Activation('relu'))\n",
    "    \n",
    "    #5th Convolutional Layer\n",
    "    AlexNet.add(Conv2D(filters=256, kernel_size=(3,3), strides=(1,1), padding='same'))\n",
    "    AlexNet.add(BatchNormalization())\n",
    "    AlexNet.add(Activation('relu'))\n",
    "    AlexNet.add(MaxPooling2D(pool_size=(2,2), strides=(2,2), padding='same'))\n",
    "    \n",
    "    #Passing it to a Fully Connected layer\n",
    "    AlexNet.add(Flatten())\n",
    "    \n",
    "    # 1st Fully Connected Layer\n",
    "    AlexNet.add(Dense(4096, input_shape=(32,32,3,)))\n",
    "    AlexNet.add(BatchNormalization())\n",
    "    AlexNet.add(Activation('relu'))\n",
    "    # Add Dropout to prevent overfitting\n",
    "    AlexNet.add(Dropout(0.4))\n",
    "    \n",
    "    #2nd Fully Connected Layer\n",
    "    AlexNet.add(Dense(4096))\n",
    "    AlexNet.add(BatchNormalization())\n",
    "    AlexNet.add(Activation('relu'))\n",
    "    #Add Dropout\n",
    "    AlexNet.add(Dropout(0.4))\n",
    "    \n",
    "    #3rd Fully Connected Layer\n",
    "    AlexNet.add(Dense(1000))\n",
    "    AlexNet.add(BatchNormalization())\n",
    "    AlexNet.add(Activation('relu'))\n",
    "    #Add Dropout\n",
    "    AlexNet.add(Dropout(0.4))\n",
    "    \n",
    "    #Output Layer\n",
    "    AlexNet.add(Dense(11))\n",
    "    AlexNet.add(BatchNormalization())\n",
    "    AlexNet.add(Activation('softmax'))\n",
    "    \n",
    "    \n",
    "    return AlexNet"
   ]
  },
  {
   "cell_type": "code",
   "execution_count": 9,
   "id": "82bdfd86",
   "metadata": {
    "execution": {
     "iopub.execute_input": "2022-05-23T21:55:52.219887Z",
     "iopub.status.busy": "2022-05-23T21:55:52.219701Z",
     "iopub.status.idle": "2022-05-23T21:55:55.096406Z",
     "shell.execute_reply": "2022-05-23T21:55:55.095612Z"
    },
    "papermill": {
     "duration": 2.898899,
     "end_time": "2022-05-23T21:55:55.098519",
     "exception": false,
     "start_time": "2022-05-23T21:55:52.199620",
     "status": "completed"
    },
    "tags": []
   },
   "outputs": [
    {
     "name": "stderr",
     "output_type": "stream",
     "text": [
      "2022-05-23 21:55:52.295225: I tensorflow/stream_executor/cuda/cuda_gpu_executor.cc:937] successful NUMA node read from SysFS had negative value (-1), but there must be at least one NUMA node, so returning NUMA node zero\n",
      "2022-05-23 21:55:52.422504: I tensorflow/stream_executor/cuda/cuda_gpu_executor.cc:937] successful NUMA node read from SysFS had negative value (-1), but there must be at least one NUMA node, so returning NUMA node zero\n",
      "2022-05-23 21:55:52.423239: I tensorflow/stream_executor/cuda/cuda_gpu_executor.cc:937] successful NUMA node read from SysFS had negative value (-1), but there must be at least one NUMA node, so returning NUMA node zero\n",
      "2022-05-23 21:55:52.424394: I tensorflow/core/platform/cpu_feature_guard.cc:142] This TensorFlow binary is optimized with oneAPI Deep Neural Network Library (oneDNN) to use the following CPU instructions in performance-critical operations:  AVX2 AVX512F FMA\n",
      "To enable them in other operations, rebuild TensorFlow with the appropriate compiler flags.\n",
      "2022-05-23 21:55:52.424679: I tensorflow/stream_executor/cuda/cuda_gpu_executor.cc:937] successful NUMA node read from SysFS had negative value (-1), but there must be at least one NUMA node, so returning NUMA node zero\n",
      "2022-05-23 21:55:52.425390: I tensorflow/stream_executor/cuda/cuda_gpu_executor.cc:937] successful NUMA node read from SysFS had negative value (-1), but there must be at least one NUMA node, so returning NUMA node zero\n",
      "2022-05-23 21:55:52.426017: I tensorflow/stream_executor/cuda/cuda_gpu_executor.cc:937] successful NUMA node read from SysFS had negative value (-1), but there must be at least one NUMA node, so returning NUMA node zero\n",
      "2022-05-23 21:55:54.452944: I tensorflow/stream_executor/cuda/cuda_gpu_executor.cc:937] successful NUMA node read from SysFS had negative value (-1), but there must be at least one NUMA node, so returning NUMA node zero\n",
      "2022-05-23 21:55:54.454438: I tensorflow/stream_executor/cuda/cuda_gpu_executor.cc:937] successful NUMA node read from SysFS had negative value (-1), but there must be at least one NUMA node, so returning NUMA node zero\n",
      "2022-05-23 21:55:54.456042: I tensorflow/stream_executor/cuda/cuda_gpu_executor.cc:937] successful NUMA node read from SysFS had negative value (-1), but there must be at least one NUMA node, so returning NUMA node zero\n",
      "2022-05-23 21:55:54.458081: I tensorflow/core/common_runtime/gpu/gpu_device.cc:1510] Created device /job:localhost/replica:0/task:0/device:GPU:0 with 15403 MB memory:  -> device: 0, name: Tesla P100-PCIE-16GB, pci bus id: 0000:00:04.0, compute capability: 6.0\n"
     ]
    }
   ],
   "source": [
    "# Access the Model\n",
    "\n",
    "model = create_model()\n",
    "model.compile(\n",
    "    optimizer=tf.keras.optimizers.Adam(learning_rate=0.00001),\n",
    "    loss='categorical_crossentropy',\n",
    "    metrics=['accuracy']\n",
    ")"
   ]
  },
  {
   "cell_type": "code",
   "execution_count": 10,
   "id": "7a90d4c4",
   "metadata": {
    "execution": {
     "iopub.execute_input": "2022-05-23T21:55:55.148369Z",
     "iopub.status.busy": "2022-05-23T21:55:55.147624Z",
     "iopub.status.idle": "2022-05-23T21:55:55.171492Z",
     "shell.execute_reply": "2022-05-23T21:55:55.170593Z"
    },
    "papermill": {
     "duration": 0.051326,
     "end_time": "2022-05-23T21:55:55.174008",
     "exception": false,
     "start_time": "2022-05-23T21:55:55.122682",
     "status": "completed"
    },
    "tags": []
   },
   "outputs": [
    {
     "name": "stdout",
     "output_type": "stream",
     "text": [
      "Model: \"sequential\"\n",
      "_________________________________________________________________\n",
      "Layer (type)                 Output Shape              Param #   \n",
      "=================================================================\n",
      "conv2d (Conv2D)              (None, 56, 56, 96)        34944     \n",
      "_________________________________________________________________\n",
      "batch_normalization (BatchNo (None, 56, 56, 96)        384       \n",
      "_________________________________________________________________\n",
      "activation (Activation)      (None, 56, 56, 96)        0         \n",
      "_________________________________________________________________\n",
      "max_pooling2d (MaxPooling2D) (None, 28, 28, 96)        0         \n",
      "_________________________________________________________________\n",
      "conv2d_1 (Conv2D)            (None, 28, 28, 256)       614656    \n",
      "_________________________________________________________________\n",
      "batch_normalization_1 (Batch (None, 28, 28, 256)       1024      \n",
      "_________________________________________________________________\n",
      "activation_1 (Activation)    (None, 28, 28, 256)       0         \n",
      "_________________________________________________________________\n",
      "max_pooling2d_1 (MaxPooling2 (None, 14, 14, 256)       0         \n",
      "_________________________________________________________________\n",
      "conv2d_2 (Conv2D)            (None, 14, 14, 384)       885120    \n",
      "_________________________________________________________________\n",
      "batch_normalization_2 (Batch (None, 14, 14, 384)       1536      \n",
      "_________________________________________________________________\n",
      "activation_2 (Activation)    (None, 14, 14, 384)       0         \n",
      "_________________________________________________________________\n",
      "conv2d_3 (Conv2D)            (None, 14, 14, 384)       1327488   \n",
      "_________________________________________________________________\n",
      "batch_normalization_3 (Batch (None, 14, 14, 384)       1536      \n",
      "_________________________________________________________________\n",
      "activation_3 (Activation)    (None, 14, 14, 384)       0         \n",
      "_________________________________________________________________\n",
      "conv2d_4 (Conv2D)            (None, 14, 14, 256)       884992    \n",
      "_________________________________________________________________\n",
      "batch_normalization_4 (Batch (None, 14, 14, 256)       1024      \n",
      "_________________________________________________________________\n",
      "activation_4 (Activation)    (None, 14, 14, 256)       0         \n",
      "_________________________________________________________________\n",
      "max_pooling2d_2 (MaxPooling2 (None, 7, 7, 256)         0         \n",
      "_________________________________________________________________\n",
      "flatten (Flatten)            (None, 12544)             0         \n",
      "_________________________________________________________________\n",
      "dense (Dense)                (None, 4096)              51384320  \n",
      "_________________________________________________________________\n",
      "batch_normalization_5 (Batch (None, 4096)              16384     \n",
      "_________________________________________________________________\n",
      "activation_5 (Activation)    (None, 4096)              0         \n",
      "_________________________________________________________________\n",
      "dropout (Dropout)            (None, 4096)              0         \n",
      "_________________________________________________________________\n",
      "dense_1 (Dense)              (None, 4096)              16781312  \n",
      "_________________________________________________________________\n",
      "batch_normalization_6 (Batch (None, 4096)              16384     \n",
      "_________________________________________________________________\n",
      "activation_6 (Activation)    (None, 4096)              0         \n",
      "_________________________________________________________________\n",
      "dropout_1 (Dropout)          (None, 4096)              0         \n",
      "_________________________________________________________________\n",
      "dense_2 (Dense)              (None, 1000)              4097000   \n",
      "_________________________________________________________________\n",
      "batch_normalization_7 (Batch (None, 1000)              4000      \n",
      "_________________________________________________________________\n",
      "activation_7 (Activation)    (None, 1000)              0         \n",
      "_________________________________________________________________\n",
      "dropout_2 (Dropout)          (None, 1000)              0         \n",
      "_________________________________________________________________\n",
      "dense_3 (Dense)              (None, 11)                11011     \n",
      "_________________________________________________________________\n",
      "batch_normalization_8 (Batch (None, 11)                44        \n",
      "_________________________________________________________________\n",
      "activation_8 (Activation)    (None, 11)                0         \n",
      "=================================================================\n",
      "Total params: 76,063,159\n",
      "Trainable params: 76,042,001\n",
      "Non-trainable params: 21,158\n",
      "_________________________________________________________________\n"
     ]
    }
   ],
   "source": [
    "# get the summary\n",
    "\n",
    "model.summary()"
   ]
  },
  {
   "cell_type": "code",
   "execution_count": 11,
   "id": "d74b9814",
   "metadata": {
    "execution": {
     "iopub.execute_input": "2022-05-23T21:55:55.218185Z",
     "iopub.status.busy": "2022-05-23T21:55:55.217999Z",
     "iopub.status.idle": "2022-05-23T21:59:22.870784Z",
     "shell.execute_reply": "2022-05-23T21:59:22.870112Z"
    },
    "papermill": {
     "duration": 207.675926,
     "end_time": "2022-05-23T21:59:22.872558",
     "exception": false,
     "start_time": "2022-05-23T21:55:55.196632",
     "status": "completed"
    },
    "tags": []
   },
   "outputs": [
    {
     "name": "stderr",
     "output_type": "stream",
     "text": [
      "2022-05-23 21:55:56.645482: I tensorflow/compiler/mlir/mlir_graph_optimization_pass.cc:185] None of the MLIR Optimization Passes are enabled (registered 2)\n"
     ]
    },
    {
     "name": "stdout",
     "output_type": "stream",
     "text": [
      "Epoch 1/50\n"
     ]
    },
    {
     "name": "stderr",
     "output_type": "stream",
     "text": [
      "2022-05-23 21:55:58.986598: I tensorflow/stream_executor/cuda/cuda_dnn.cc:369] Loaded cuDNN version 8005\n"
     ]
    },
    {
     "name": "stdout",
     "output_type": "stream",
     "text": [
      "70/70 [==============================] - 13s 67ms/step - loss: 2.0281 - accuracy: 0.3384 - val_loss: 2.0785 - val_accuracy: 0.2430\n",
      "Epoch 2/50\n",
      "70/70 [==============================] - 4s 56ms/step - loss: 1.5951 - accuracy: 0.4947 - val_loss: 1.7720 - val_accuracy: 0.4788\n",
      "Epoch 3/50\n",
      "70/70 [==============================] - 4s 57ms/step - loss: 1.4599 - accuracy: 0.5614 - val_loss: 1.5585 - val_accuracy: 0.5563\n",
      "Epoch 4/50\n",
      "70/70 [==============================] - 4s 56ms/step - loss: 1.3589 - accuracy: 0.6139 - val_loss: 1.3816 - val_accuracy: 0.6391\n",
      "Epoch 5/50\n",
      "70/70 [==============================] - 4s 56ms/step - loss: 1.3094 - accuracy: 0.6294 - val_loss: 1.2858 - val_accuracy: 0.6652\n",
      "Epoch 6/50\n",
      "70/70 [==============================] - 4s 57ms/step - loss: 1.2562 - accuracy: 0.6580 - val_loss: 1.2478 - val_accuracy: 0.6706\n",
      "Epoch 7/50\n",
      "70/70 [==============================] - 4s 56ms/step - loss: 1.2139 - accuracy: 0.6844 - val_loss: 1.1948 - val_accuracy: 0.6841\n",
      "Epoch 8/50\n",
      "70/70 [==============================] - 4s 56ms/step - loss: 1.1777 - accuracy: 0.6911 - val_loss: 1.1515 - val_accuracy: 0.6949\n",
      "Epoch 9/50\n",
      "70/70 [==============================] - 4s 56ms/step - loss: 1.1420 - accuracy: 0.7101 - val_loss: 1.1319 - val_accuracy: 0.7138\n",
      "Epoch 10/50\n",
      "70/70 [==============================] - 4s 56ms/step - loss: 1.1048 - accuracy: 0.7288 - val_loss: 1.1174 - val_accuracy: 0.7228\n",
      "Epoch 11/50\n",
      "70/70 [==============================] - 4s 56ms/step - loss: 1.0764 - accuracy: 0.7425 - val_loss: 1.1041 - val_accuracy: 0.7192\n",
      "Epoch 12/50\n",
      "70/70 [==============================] - 4s 56ms/step - loss: 1.0515 - accuracy: 0.7540 - val_loss: 1.1124 - val_accuracy: 0.7219\n",
      "Epoch 13/50\n",
      "70/70 [==============================] - 4s 56ms/step - loss: 1.0071 - accuracy: 0.7768 - val_loss: 1.0904 - val_accuracy: 0.7255\n",
      "Epoch 14/50\n",
      "70/70 [==============================] - 4s 57ms/step - loss: 0.9788 - accuracy: 0.7930 - val_loss: 1.0719 - val_accuracy: 0.7453\n",
      "Epoch 15/50\n",
      "70/70 [==============================] - 4s 60ms/step - loss: 0.9589 - accuracy: 0.7977 - val_loss: 1.0673 - val_accuracy: 0.7381\n",
      "Epoch 16/50\n",
      "70/70 [==============================] - 4s 56ms/step - loss: 0.9201 - accuracy: 0.8254 - val_loss: 1.0680 - val_accuracy: 0.7408\n",
      "Epoch 17/50\n",
      "70/70 [==============================] - 4s 56ms/step - loss: 0.9054 - accuracy: 0.8389 - val_loss: 1.0435 - val_accuracy: 0.7525\n",
      "Epoch 18/50\n",
      "70/70 [==============================] - 4s 56ms/step - loss: 0.8810 - accuracy: 0.8455 - val_loss: 1.0476 - val_accuracy: 0.7480\n",
      "Epoch 19/50\n",
      "70/70 [==============================] - 4s 56ms/step - loss: 0.8433 - accuracy: 0.8639 - val_loss: 1.0476 - val_accuracy: 0.7489\n",
      "Epoch 20/50\n",
      "70/70 [==============================] - 4s 56ms/step - loss: 0.8188 - accuracy: 0.8799 - val_loss: 1.0497 - val_accuracy: 0.7543\n",
      "Epoch 21/50\n",
      "70/70 [==============================] - 4s 56ms/step - loss: 0.8026 - accuracy: 0.8880 - val_loss: 1.0312 - val_accuracy: 0.7561\n",
      "Epoch 22/50\n",
      "70/70 [==============================] - 4s 56ms/step - loss: 0.7815 - accuracy: 0.9020 - val_loss: 1.0060 - val_accuracy: 0.7552\n",
      "Epoch 23/50\n",
      "70/70 [==============================] - 4s 57ms/step - loss: 0.7543 - accuracy: 0.9038 - val_loss: 1.0350 - val_accuracy: 0.7624\n",
      "Epoch 24/50\n",
      "70/70 [==============================] - 4s 57ms/step - loss: 0.7502 - accuracy: 0.9117 - val_loss: 1.0333 - val_accuracy: 0.7606\n",
      "Epoch 25/50\n",
      "70/70 [==============================] - 4s 56ms/step - loss: 0.7290 - accuracy: 0.9191 - val_loss: 1.0206 - val_accuracy: 0.7570\n",
      "Epoch 26/50\n",
      "70/70 [==============================] - 4s 56ms/step - loss: 0.7169 - accuracy: 0.9281 - val_loss: 1.0245 - val_accuracy: 0.7516\n",
      "Epoch 27/50\n",
      "70/70 [==============================] - 4s 56ms/step - loss: 0.6928 - accuracy: 0.9326 - val_loss: 1.0228 - val_accuracy: 0.7669\n",
      "Epoch 28/50\n",
      "70/70 [==============================] - 4s 57ms/step - loss: 0.6854 - accuracy: 0.9401 - val_loss: 1.0095 - val_accuracy: 0.7678\n",
      "Epoch 29/50\n",
      "70/70 [==============================] - 4s 56ms/step - loss: 0.6692 - accuracy: 0.9480 - val_loss: 1.0314 - val_accuracy: 0.7660\n",
      "Epoch 30/50\n",
      "70/70 [==============================] - 4s 56ms/step - loss: 0.6552 - accuracy: 0.9552 - val_loss: 0.9940 - val_accuracy: 0.7651\n",
      "Epoch 31/50\n",
      "70/70 [==============================] - 4s 56ms/step - loss: 0.6411 - accuracy: 0.9545 - val_loss: 0.9902 - val_accuracy: 0.7696\n",
      "Epoch 32/50\n",
      "70/70 [==============================] - 4s 57ms/step - loss: 0.6327 - accuracy: 0.9624 - val_loss: 1.0071 - val_accuracy: 0.7669\n",
      "Epoch 33/50\n",
      "70/70 [==============================] - 4s 56ms/step - loss: 0.6194 - accuracy: 0.9624 - val_loss: 1.0265 - val_accuracy: 0.7633\n",
      "Epoch 34/50\n",
      "70/70 [==============================] - 4s 56ms/step - loss: 0.6084 - accuracy: 0.9694 - val_loss: 0.9941 - val_accuracy: 0.7669\n",
      "Epoch 35/50\n",
      "70/70 [==============================] - 4s 56ms/step - loss: 0.5950 - accuracy: 0.9700 - val_loss: 1.0050 - val_accuracy: 0.7687\n",
      "Epoch 36/50\n",
      "70/70 [==============================] - 4s 56ms/step - loss: 0.5860 - accuracy: 0.9739 - val_loss: 1.0024 - val_accuracy: 0.7687\n",
      "Epoch 37/50\n",
      "70/70 [==============================] - 4s 57ms/step - loss: 0.5888 - accuracy: 0.9743 - val_loss: 1.0041 - val_accuracy: 0.7633\n",
      "Epoch 38/50\n",
      "70/70 [==============================] - 4s 56ms/step - loss: 0.5726 - accuracy: 0.9772 - val_loss: 0.9941 - val_accuracy: 0.7705\n",
      "Epoch 39/50\n",
      "70/70 [==============================] - 4s 56ms/step - loss: 0.5647 - accuracy: 0.9768 - val_loss: 1.0187 - val_accuracy: 0.7723\n",
      "Epoch 40/50\n",
      "70/70 [==============================] - 4s 58ms/step - loss: 0.5532 - accuracy: 0.9806 - val_loss: 0.9962 - val_accuracy: 0.7759\n",
      "Epoch 41/50\n",
      "70/70 [==============================] - 4s 56ms/step - loss: 0.5532 - accuracy: 0.9820 - val_loss: 0.9949 - val_accuracy: 0.7678\n",
      "Epoch 42/50\n",
      "70/70 [==============================] - 4s 56ms/step - loss: 0.5520 - accuracy: 0.9804 - val_loss: 0.9849 - val_accuracy: 0.7678\n",
      "Epoch 43/50\n",
      "70/70 [==============================] - 4s 56ms/step - loss: 0.5377 - accuracy: 0.9858 - val_loss: 0.9987 - val_accuracy: 0.7678\n",
      "Epoch 44/50\n",
      "70/70 [==============================] - 4s 56ms/step - loss: 0.5398 - accuracy: 0.9838 - val_loss: 1.0069 - val_accuracy: 0.7660\n",
      "Epoch 45/50\n",
      "70/70 [==============================] - 4s 57ms/step - loss: 0.5197 - accuracy: 0.9860 - val_loss: 1.0065 - val_accuracy: 0.7588\n",
      "Epoch 46/50\n",
      "70/70 [==============================] - 4s 56ms/step - loss: 0.5183 - accuracy: 0.9854 - val_loss: 1.0181 - val_accuracy: 0.7597\n",
      "Epoch 47/50\n",
      "70/70 [==============================] - 4s 60ms/step - loss: 0.5133 - accuracy: 0.9885 - val_loss: 0.9906 - val_accuracy: 0.7759\n",
      "Epoch 48/50\n",
      "70/70 [==============================] - 4s 57ms/step - loss: 0.5135 - accuracy: 0.9865 - val_loss: 0.9716 - val_accuracy: 0.7723\n",
      "Epoch 49/50\n",
      "70/70 [==============================] - 4s 56ms/step - loss: 0.4976 - accuracy: 0.9872 - val_loss: 0.9732 - val_accuracy: 0.7723\n",
      "Epoch 50/50\n",
      "70/70 [==============================] - 4s 56ms/step - loss: 0.5024 - accuracy: 0.9919 - val_loss: 1.0078 - val_accuracy: 0.7579\n"
     ]
    },
    {
     "data": {
      "text/plain": [
       "<keras.callbacks.History at 0x7f7a493ede50>"
      ]
     },
     "execution_count": 11,
     "metadata": {},
     "output_type": "execute_result"
    }
   ],
   "source": [
    "model.fit(\n",
    "    np.array(X_train),\n",
    "    np.array(Y_train),\n",
    "    epochs=50,\n",
    "    batch_size = 64,\n",
    "    validation_data=(np.array(X_valid),np.array(Y_valid))\n",
    ")"
   ]
  },
  {
   "cell_type": "markdown",
   "id": "918d9942",
   "metadata": {
    "papermill": {
     "duration": 1.110202,
     "end_time": "2022-05-23T21:59:25.315363",
     "exception": false,
     "start_time": "2022-05-23T21:59:24.205161",
     "status": "completed"
    },
    "tags": []
   },
   "source": [
    "# **Calculate Training and Testing Accuracy**"
   ]
  },
  {
   "cell_type": "code",
   "execution_count": 12,
   "id": "17be9183",
   "metadata": {
    "execution": {
     "iopub.execute_input": "2022-05-23T21:59:27.609177Z",
     "iopub.status.busy": "2022-05-23T21:59:27.608924Z",
     "iopub.status.idle": "2022-05-23T21:59:31.312615Z",
     "shell.execute_reply": "2022-05-23T21:59:31.311822Z"
    },
    "papermill": {
     "duration": 4.862424,
     "end_time": "2022-05-23T21:59:31.314508",
     "exception": false,
     "start_time": "2022-05-23T21:59:26.452084",
     "status": "completed"
    },
    "tags": []
   },
   "outputs": [
    {
     "name": "stdout",
     "output_type": "stream",
     "text": [
      "model train accuracy with built in func :-\n",
      "accuracy: 99.77%\n",
      "model test accuracy with built in func :-\n",
      "accuracy: 75.79%\n"
     ]
    }
   ],
   "source": [
    "# Calculate Accuracy\n",
    "\n",
    "scores = model.evaluate(np.array(X_train), np.array(Y_train), verbose=0)\n",
    "print(\"model train accuracy with built in func :-\")\n",
    "print(\"%s: %.2f%%\" % (model.metrics_names[1], scores[1]*100))\n",
    "\n",
    "scores = model.evaluate(np.array(X_valid),np.array(Y_valid), verbose=0)\n",
    "print(\"model test accuracy with built in func :-\")\n",
    "print(\"%s: %.2f%%\" % (model.metrics_names[1], scores[1]*100))"
   ]
  },
  {
   "cell_type": "markdown",
   "id": "41c1a763",
   "metadata": {
    "papermill": {
     "duration": 1.056884,
     "end_time": "2022-05-23T21:59:33.471337",
     "exception": false,
     "start_time": "2022-05-23T21:59:32.414453",
     "status": "completed"
    },
    "tags": []
   },
   "source": [
    "# **Prediction of test data**"
   ]
  },
  {
   "cell_type": "code",
   "execution_count": 13,
   "id": "8d9dd7f0",
   "metadata": {
    "execution": {
     "iopub.execute_input": "2022-05-23T21:59:35.865694Z",
     "iopub.status.busy": "2022-05-23T21:59:35.865361Z",
     "iopub.status.idle": "2022-05-23T21:59:35.873122Z",
     "shell.execute_reply": "2022-05-23T21:59:35.872321Z"
    },
    "papermill": {
     "duration": 1.174204,
     "end_time": "2022-05-23T21:59:35.875212",
     "exception": false,
     "start_time": "2022-05-23T21:59:34.701008",
     "status": "completed"
    },
    "tags": []
   },
   "outputs": [],
   "source": [
    "# Prediction of test data\n",
    "\n",
    "def predict_test_images():\n",
    "    X_test_names = []\n",
    "    Y_test_labels = []\n",
    "\n",
    "    for img_name in os.listdir(test_dir):\n",
    "        try:\n",
    "            img_path = os.path.join(test_dir,img_name)\n",
    "            x = cv2.imread(img_path)\n",
    "            img_data = cv2.resize(x, (224, 224))\n",
    "            img_data = img_data.reshape(224, 224, 3)\n",
    "\n",
    "            lst = []\n",
    "            lst.append(img_data)\n",
    "            output_arr = model.predict(np.array(lst))\n",
    "            label_num = np.argmax(np.array(output_arr))\n",
    "            X_test_names.append(img_name)\n",
    "            Y_test_labels.append(label_num)\n",
    "\n",
    "        except:\n",
    "            X_test_names.append(img_name)\n",
    "            Y_test_labels.append(10)\n",
    "            print(\"!!!Replaced Skipped Example Here with 0!!!\")\n",
    "\n",
    "\n",
    "    print(\"The Test images size: \" + str(len(X_test_names)))\n",
    "    print(\"The Test Labels size: \" + str(len(Y_test_labels)))\n",
    "\n",
    "    return X_test_names, Y_test_labels"
   ]
  },
  {
   "cell_type": "code",
   "execution_count": 14,
   "id": "386fe399",
   "metadata": {
    "execution": {
     "iopub.execute_input": "2022-05-23T21:59:38.055898Z",
     "iopub.status.busy": "2022-05-23T21:59:38.055145Z",
     "iopub.status.idle": "2022-05-23T21:59:38.060603Z",
     "shell.execute_reply": "2022-05-23T21:59:38.059811Z"
    },
    "papermill": {
     "duration": 1.107393,
     "end_time": "2022-05-23T21:59:38.063300",
     "exception": false,
     "start_time": "2022-05-23T21:59:36.955907",
     "status": "completed"
    },
    "tags": []
   },
   "outputs": [],
   "source": [
    "# Create the Submission file\n",
    "\n",
    "def create_submission_file(X_test_names, Y_test_labels):\n",
    "    df = pd.DataFrame({'image_name': X_test_names,'label': Y_test_labels})\n",
    "    df.to_csv(r'./CS_22_submission.csv', index=False)"
   ]
  },
  {
   "cell_type": "code",
   "execution_count": 15,
   "id": "1d4fec25",
   "metadata": {
    "execution": {
     "iopub.execute_input": "2022-05-23T21:59:40.185501Z",
     "iopub.status.busy": "2022-05-23T21:59:40.185226Z",
     "iopub.status.idle": "2022-05-23T22:00:48.484414Z",
     "shell.execute_reply": "2022-05-23T22:00:48.483680Z"
    },
    "papermill": {
     "duration": 70.492595,
     "end_time": "2022-05-23T22:00:49.604035",
     "exception": false,
     "start_time": "2022-05-23T21:59:39.111440",
     "status": "completed"
    },
    "tags": []
   },
   "outputs": [
    {
     "name": "stdout",
     "output_type": "stream",
     "text": [
      "The Prediction of Test Data Starts...\n",
      "!!!Replaced Skipped Example Here with 0!!!\n",
      "The Test images size: 1300\n",
      "The Test Labels size: 1300\n",
      "The Prediction of Test Data Ends\n",
      "the Submission file Creation Starts...\n",
      "the Submission file Created Successfully\n"
     ]
    }
   ],
   "source": [
    "# Prediction the test data and submission file\n",
    "\n",
    "print(\"The Prediction of Test Data Starts...\")\n",
    "X_test_names, Y_test_labels = predict_test_images()\n",
    "print(\"The Prediction of Test Data Ends\")\n",
    "\n",
    "print(\"the Submission file Creation Starts...\")\n",
    "create_submission_file(X_test_names, Y_test_labels)\n",
    "print(\"the Submission file Created Successfully\")"
   ]
  }
 ],
 "metadata": {
  "kernelspec": {
   "display_name": "Python 3",
   "language": "python",
   "name": "python3"
  },
  "language_info": {
   "codemirror_mode": {
    "name": "ipython",
    "version": 3
   },
   "file_extension": ".py",
   "mimetype": "text/x-python",
   "name": "python",
   "nbconvert_exporter": "python",
   "pygments_lexer": "ipython3",
   "version": "3.7.12"
  },
  "papermill": {
   "default_parameters": {},
   "duration": 375.724415,
   "end_time": "2022-05-23T22:00:53.572794",
   "environment_variables": {},
   "exception": null,
   "input_path": "__notebook__.ipynb",
   "output_path": "__notebook__.ipynb",
   "parameters": {},
   "start_time": "2022-05-23T21:54:37.848379",
   "version": "2.3.4"
  }
 },
 "nbformat": 4,
 "nbformat_minor": 5
}
